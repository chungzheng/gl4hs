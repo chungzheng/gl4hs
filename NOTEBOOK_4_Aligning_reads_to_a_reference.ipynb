{
  "nbformat": 4,
  "nbformat_minor": 0,
  "metadata": {
    "colab": {
      "provenance": [],
      "toc_visible": true
    },
    "kernelspec": {
      "name": "python3",
      "display_name": "Python 3"
    },
    "language_info": {
      "name": "python"
    }
  },
  "cells": [
    {
      "cell_type": "markdown",
      "source": [
        "<div>\n",
        "<img src=\"https://www.nasa.gov/wp-content/uploads/2024/07/osdr-gl4hs-logo.png\" width=\"600\"/>\n",
        "</div>"
      ],
      "metadata": {
        "id": "5zwEdZQWa8dw"
      }
    },
    {
      "cell_type": "markdown",
      "source": [
        "# **NOTEBOOK 4: Aligning sequencing reads to a reference genome**\n",
        "\n",
        "\n",
        "In this notebook you will map (align) the sequence reads from the FASTQ files to the reference chromosome index (chr17) you built in the previous notebook.\n",
        "\n",
        "## **Objectives of this notebook**\n",
        "The primary objective of this notebook is to align the 2 FASTQ files to a reference genome index for chromosome 17. Once you perform the alignment, you will check the alignment using a command called `samtools`. You can learn more about the `samtools` command in this [Wikipedia article](https://en.wikipedia.org/wiki/SAMtools).\n",
        "\n",
        "## **UNIX commands introduced in this notebook**\n"
      ],
      "metadata": {
        "id": "yvasx_p7Ykbu"
      }
    },
    {
      "cell_type": "markdown",
      "source": [
        "# Prepare your runtime environment for this lab"
      ],
      "metadata": {
        "id": "RMXtsrPS3pFs"
      }
    },
    {
      "cell_type": "code",
      "execution_count": 1,
      "metadata": {
        "id": "wuZaffD5o3mS",
        "colab": {
          "base_uri": "https://localhost:8080/"
        },
        "outputId": "b8595c29-a555-47ff-e523-c7f6bfe7a342"
      },
      "outputs": [
        {
          "output_type": "stream",
          "name": "stdout",
          "text": [
            "Drive not mounted, so nothing to flush and unmount.\n",
            "Mounted at mnt\n"
          ]
        }
      ],
      "source": [
        "# mount the google drive\n",
        "from google.colab import drive\n",
        "drive.flush_and_unmount()\n",
        "drive.mount(\"mnt\")\n"
      ]
    },
    {
      "cell_type": "code",
      "source": [
        "# time the notebook\n",
        "import datetime\n",
        "start_time = datetime.datetime.now()\n",
        "print('notebook start time: ', start_time.strftime('%Y-%m-%d %H:%M:%S'))"
      ],
      "metadata": {
        "id": "sZ1_qzKH8jCg",
        "colab": {
          "base_uri": "https://localhost:8080/"
        },
        "outputId": "8f468638-8241-481c-c13d-a5f2f06822ec"
      },
      "execution_count": 2,
      "outputs": [
        {
          "output_type": "stream",
          "name": "stdout",
          "text": [
            "notebook start time:  2025-07-14 19:42:04\n"
          ]
        }
      ]
    },
    {
      "cell_type": "code",
      "source": [
        "# import the os module which you'll use throughout the notebook\n",
        "import os"
      ],
      "metadata": {
        "id": "zTH9Flk46nLA"
      },
      "execution_count": 3,
      "outputs": []
    },
    {
      "cell_type": "code",
      "source": [
        "# set FASTQ_DIR and verify it exists\n",
        "FASTQ_DIR=\"/content/mnt/MyDrive/NASA/GL4HS/FASTQ\"\n",
        "if not os.path.exists(FASTQ_DIR):\n",
        "  raise Exception(\"STOP! You have not finished the previous notebooks!\")"
      ],
      "metadata": {
        "id": "hKTKRCHk6fM4"
      },
      "execution_count": 4,
      "outputs": []
    },
    {
      "cell_type": "code",
      "source": [
        "# set REFERENCE_DIR and verify it exists\n",
        "REFERENCE_DIR=\"/content/mnt/MyDrive/NASA/GL4HS/REFERENCE\"\n",
        "if not os.path.exists(REFERENCE_DIR):\n",
        "  raise Exception(\"STOP! You have not finished the previous notebooks!\")"
      ],
      "metadata": {
        "id": "EMywa4uq6PXY"
      },
      "execution_count": 5,
      "outputs": []
    },
    {
      "cell_type": "code",
      "source": [
        "# set STAR_DIR and verify it exists\n",
        "STAR_DIR=\"/content/mnt/MyDrive/NASA/GL4HS/STAR\"\n",
        "if not os.path.exists(STAR_DIR):\n",
        "  raise Exception(\"STOP! You have not finished the previous notebooks!\")"
      ],
      "metadata": {
        "id": "oSJSINkR6XAP"
      },
      "execution_count": 6,
      "outputs": []
    },
    {
      "cell_type": "code",
      "source": [
        "# check for the compressed trimmed fastq files\n",
        "if not os.path.exists(f\"{FASTQ_DIR}/TRIM/PAIRED/reduced_r1_val_1.fq.gz\") \\\n",
        "  or not os.path.exists(f\"{FASTQ_DIR}/TRIM/PAIRED/reduced_r2_val_2.fq.gz\"):\n",
        "  raise Exception(\"STOP: one or both of the reduced trimmed fq.gz files do not exist. You must first run the previous notebooks!\")"
      ],
      "metadata": {
        "id": "it99dsPh33AO"
      },
      "execution_count": 7,
      "outputs": []
    },
    {
      "cell_type": "code",
      "source": [
        "# install samtools\n",
        "!sudo apt-get install samtools > /dev/null 2>&1"
      ],
      "metadata": {
        "id": "zZyzMBn96xuF"
      },
      "execution_count": 8,
      "outputs": []
    },
    {
      "cell_type": "code",
      "source": [
        "# check version of samtools\n",
        "!samtools --version"
      ],
      "metadata": {
        "id": "WWoKmdcKBzxn",
        "colab": {
          "base_uri": "https://localhost:8080/"
        },
        "outputId": "c9563367-0569-408f-e593-3105c77c9162"
      },
      "execution_count": 9,
      "outputs": [
        {
          "output_type": "stream",
          "name": "stdout",
          "text": [
            "samtools 1.13\n",
            "Using htslib 1.13+ds\n",
            "Copyright (C) 2021 Genome Research Ltd.\n",
            "\n",
            "Samtools compilation details:\n",
            "    Features:       build=configure curses=yes \n",
            "    CC:             gcc\n",
            "    CPPFLAGS:       -frelease  -Wdate-time -D_FORTIFY_SOURCE=2\n",
            "    CFLAGS:         -g -O2 -ffile-prefix-map=�BUILDPATH�=. -flto=auto -ffat-lto-objects -fstack-protector-strong -Wformat -Werror=format-security\n",
            "    LDFLAGS:        -Wl,-Bsymbolic-functions -flto=auto -Wl,-z,relro -Wl,-z,now\n",
            "    HTSDIR:         \n",
            "    LIBS:           \n",
            "    CURSES_LIB:     -lcurses\n",
            "\n",
            "HTSlib compilation details:\n",
            "    Features:       build=configure plugins=yes, plugin-path=/usr/local/lib/htslib:/usr/local/libexec/htslib:: libcurl=yes S3=yes GCS=yes libdeflate=yes lzma=yes bzip2=yes htscodecs=1.1.1\n",
            "    CC:             gcc\n",
            "    CPPFLAGS:       -I. -DSAMTOOLS=1 -Wdate-time -D_FORTIFY_SOURCE=2\n",
            "    CFLAGS:         -g -O2 -ffile-prefix-map=/build/htslib-TQtOKr/htslib-1.13+ds=. -flto=auto -ffat-lto-objects -fstack-protector-strong -Wformat -Werror=format-security -flto -fvisibility=hidden -flto -fvisibility=hidden\n",
            "    LDFLAGS:        -Wl,-Bsymbolic-functions -flto=auto -Wl,-z,relro -Wl,-z,now -Wl,-flto -fvisibility=hidden -Wl,-flto -fvisibility=hidden\n",
            "\n",
            "HTSlib URL scheme handlers present:\n",
            "    built-in:\t preload, data, file\n",
            "    crypt4gh-needed:\t crypt4gh\n",
            "    mem:\t mem\n"
          ]
        }
      ]
    },
    {
      "cell_type": "markdown",
      "source": [
        "# Align the reads to the reference"
      ],
      "metadata": {
        "id": "DDG-EQW03upW"
      }
    },
    {
      "cell_type": "code",
      "source": [
        "# unzip the reduce_trimmed fq.gz files as STAR only reads unzipped fastq\n",
        "#\n",
        "import os\n",
        "if os.path.exists(f\"{FASTQ_DIR}/TRIM/PAIRED/reduced_r1_val_1.fq.gz\") and not os.path.exists(f\"{FASTQ_DIR}/TRIM/PAIRED/reduced_r1_val_1.fq\"):\n",
        "  !gunzip -f {FASTQ_DIR}/TRIM/PAIRED/reduced_r1_val_1.fq.gz\n",
        "if os.path.exists(f\"{FASTQ_DIR}/TRIM/PAIRED/reduced_r2_val_2.fq.gz\") and not os.path.exists(f\"{FASTQ_DIR}/TRIM/PAIRED/reduced_r2_val_2.fq\"):\n",
        "  !gunzip -f {FASTQ_DIR}/TRIM/PAIRED/reduced_r2_val_2.fq.gz"
      ],
      "metadata": {
        "id": "p285Z0WQqIkg"
      },
      "execution_count": 10,
      "outputs": []
    },
    {
      "cell_type": "markdown",
      "source": [
        "## Use the `STAR` command to perform the alignment"
      ],
      "metadata": {
        "id": "5jiAilffyWz5"
      }
    },
    {
      "cell_type": "markdown",
      "source": [
        "Read Sections 3.1 and 3.2 of the [STAR manual](https://github.com/alexdobin/STAR/blob/master/doc/STARmanual.pdf) to learn about the STAR command options for running mapping (alignment) jobs.\n",
        "\n",
        "For more information, feel free to read [this tutorial](https://hbctraining.github.io/Intro-to-rnaseq-hpc-O2/lessons/03_alignment.html) on the STAR aligner for more information about how it works."
      ],
      "metadata": {
        "id": "4pyvIsnfyh7b"
      }
    },
    {
      "cell_type": "code",
      "source": [
        "# run STAR to align the reads to the reference\n",
        "# this may take a LONG time (several hours)\n",
        "# runtime depends on the REDUCTION_FACTOR setting from the first notebook\n",
        "# runtime also depends on how much data you're aligning\n",
        "# runtime also depends on how much memory is on the computer where STAR is running\n",
        "import datetime\n",
        "start = datetime.datetime.now()\n",
        "print('starting time: ', start.strftime('%Y-%m-%d %H:%M:%S'))\n",
        "\n",
        "!chmod +x {STAR_DIR}/STAR-2.7.11b/bin/Linux_x86_64_static/STAR\n",
        "\n",
        "if os.path.exists(f\"{STAR_DIR}/ALIGNMENT\"):\n",
        "  !rm -rf {STAR_DIR}/ALIGNMENT\n",
        "!mkdir {STAR_DIR}/ALIGNMENT\n",
        "!{STAR_DIR}/STAR-2.7.11b/bin/Linux_x86_64_static/STAR \\\n",
        "  --outFileNamePrefix {STAR_DIR}/ALIGNMENT/chr17 \\\n",
        "  --readFilesIn {FASTQ_DIR}/TRIM/PAIRED/reduced_r1_val_1.fq {FASTQ_DIR}/TRIM/PAIRED/reduced_r2_val_2.fq \\\n",
        "  --genomeDir {REFERENCE_DIR}/MM39_CHR17 \\\n",
        "  --runThreadN 2\n",
        "\n",
        "end = datetime.datetime.now()\n",
        "print('ending time: ', end.strftime('%Y-%m-%d %H:%M:%S'))\n"
      ],
      "metadata": {
        "id": "09QH8xP-yXcU",
        "colab": {
          "base_uri": "https://localhost:8080/"
        },
        "outputId": "06037587-f4e7-4644-f0d1-daedbb03fd8c"
      },
      "execution_count": 11,
      "outputs": [
        {
          "output_type": "stream",
          "name": "stdout",
          "text": [
            "starting time:  2025-07-14 19:42:26\n",
            "\t/content/mnt/MyDrive/NASA/GL4HS/STAR/STAR-2.7.11b/bin/Linux_x86_64_static/STAR --outFileNamePrefix /content/mnt/MyDrive/NASA/GL4HS/STAR/ALIGNMENT/chr17 --readFilesIn /content/mnt/MyDrive/NASA/GL4HS/FASTQ/TRIM/PAIRED/reduced_r1_val_1.fq /content/mnt/MyDrive/NASA/GL4HS/FASTQ/TRIM/PAIRED/reduced_r2_val_2.fq --genomeDir /content/mnt/MyDrive/NASA/GL4HS/REFERENCE/MM39_CHR17 --runThreadN 2\n",
            "\tSTAR version: 2.7.11b   compiled: 2024-01-25T16:12:02-05:00 :/home/dobin/data/STAR/STARcode/STAR.master/source\n",
            "Jul 14 19:42:28 ..... started STAR run\n",
            "Jul 14 19:42:28 ..... loading genome\n",
            "Jul 14 19:42:45 ..... started mapping\n",
            "Jul 14 20:15:54 ..... finished mapping\n",
            "Jul 14 20:15:54 ..... finished successfully\n",
            "ending time:  2025-07-14 20:15:54\n"
          ]
        }
      ]
    },
    {
      "cell_type": "code",
      "source": [
        "# check alignment output files\n",
        "# there should be 5 files in all\n",
        "# the alignment file itself is called chr17Aligned.out.sam\n",
        "!ls -lh {STAR_DIR}/ALIGNMENT/chr17*"
      ],
      "metadata": {
        "id": "1y-YluDyC2bn",
        "colab": {
          "base_uri": "https://localhost:8080/"
        },
        "outputId": "ae23d465-4ece-49cf-c706-a82ba2b3b818"
      },
      "execution_count": 12,
      "outputs": [
        {
          "output_type": "stream",
          "name": "stdout",
          "text": [
            "-rw------- 1 root root  25M Jul 14 20:15 /content/mnt/MyDrive/NASA/GL4HS/STAR/ALIGNMENT/chr17Aligned.out.sam\n",
            "-rw------- 1 root root 2.0K Jul 14 20:15 /content/mnt/MyDrive/NASA/GL4HS/STAR/ALIGNMENT/chr17Log.final.out\n",
            "-rw------- 1 root root 5.4K Jul 14 20:15 /content/mnt/MyDrive/NASA/GL4HS/STAR/ALIGNMENT/chr17Log.out\n",
            "-rw------- 1 root root 1.8K Jul 14 20:15 /content/mnt/MyDrive/NASA/GL4HS/STAR/ALIGNMENT/chr17Log.progress.out\n",
            "-rw------- 1 root root  24K Jul 14 20:15 /content/mnt/MyDrive/NASA/GL4HS/STAR/ALIGNMENT/chr17SJ.out.tab\n"
          ]
        }
      ]
    },
    {
      "cell_type": "markdown",
      "source": [
        "## Use `samtools` view to examine the alignment"
      ],
      "metadata": {
        "id": "y8krb_iYxoOa"
      }
    },
    {
      "cell_type": "markdown",
      "source": [
        "Read the [samtools view manpage](https://www.htslib.org/doc/samtools-view.html) to learn more about this command."
      ],
      "metadata": {
        "id": "psU83eqIxToj"
      }
    },
    {
      "cell_type": "code",
      "source": [
        "# look at the first 10 lines of the SAM file\n",
        "# Question: Which position is the first read in this (unsorted) SAM file?\n",
        "!samtools view -h {STAR_DIR}/ALIGNMENT/chr17Aligned.out.sam | head -10"
      ],
      "metadata": {
        "id": "Zy4_OkM-Ni3j",
        "colab": {
          "base_uri": "https://localhost:8080/"
        },
        "outputId": "52a13173-0f7f-46e1-dd29-dcf92091681e"
      },
      "execution_count": 13,
      "outputs": [
        {
          "output_type": "stream",
          "name": "stdout",
          "text": [
            "@HD\tVN:1.4\n",
            "@SQ\tSN:17\tLN:95294699\n",
            "@PG\tID:STAR\tPN:STAR\tVN:2.7.11b\tCL:/content/mnt/MyDrive/NASA/GL4HS/STAR/STAR-2.7.11b/bin/Linux_x86_64_static/STAR   --runThreadN 2   --genomeDir /content/mnt/MyDrive/NASA/GL4HS/REFERENCE/MM39_CHR17   --readFilesIn /content/mnt/MyDrive/NASA/GL4HS/FASTQ/TRIM/PAIRED/reduced_r1_val_1.fq   /content/mnt/MyDrive/NASA/GL4HS/FASTQ/TRIM/PAIRED/reduced_r2_val_2.fq      --outFileNamePrefix /content/mnt/MyDrive/NASA/GL4HS/STAR/ALIGNMENT/chr17\n",
            "@PG\tID:samtools\tPN:samtools\tPP:STAR\tVN:1.13\tCL:samtools view -h /content/mnt/MyDrive/NASA/GL4HS/STAR/ALIGNMENT/chr17Aligned.out.sam\n",
            "@CO\tuser command line: /content/mnt/MyDrive/NASA/GL4HS/STAR/STAR-2.7.11b/bin/Linux_x86_64_static/STAR --outFileNamePrefix /content/mnt/MyDrive/NASA/GL4HS/STAR/ALIGNMENT/chr17 --readFilesIn /content/mnt/MyDrive/NASA/GL4HS/FASTQ/TRIM/PAIRED/reduced_r1_val_1.fq /content/mnt/MyDrive/NASA/GL4HS/FASTQ/TRIM/PAIRED/reduced_r2_val_2.fq --genomeDir /content/mnt/MyDrive/NASA/GL4HS/REFERENCE/MM39_CHR17 --runThreadN 2\n",
            "J00113:159:HFK2LBBXX:1:1114:25114:30099\t163\t17\t40154368\t255\t99M\t=\t40154382\t114\tGCCTTCCCGTTTGTGTCTGAGAAGCCCGTGAGAGGGGGGTCGAGGAGAGAAGGAGGGGCAAGACCCCCCTTCTTCGTCGGGTGAGCGCCCACCCCGCGC\tAAFFFJJJJJJJJJJJJJJJJJJJJJJJJJJJJJJJJJJJJJAJJ<JAF7JJJJFFFJJAAJFFFAFJJ7JJJFJJF7AFJJFJFJFFAJJJAFJJFJJ\tNH:i:1\tHI:i:1\tAS:i:195\tnM:i:1\n",
            "J00113:159:HFK2LBBXX:1:1114:25114:30099\t83\t17\t40154382\t255\t100M\t=\t40154368\t-114\tGTCTGAGAAGCCCGTGAGAGGGGGGTCGAGGAGAGAAGGAGGGGCAAGACCCCCCTTCTTCGTCGGGTGAGCGCCCACCCCGCGCACTAGTACGCCCGTG\tJJJJJJJJJJJJJJJJJJJJJJJJJJJJJJJJJJJJJJJJJJJJJJJJJJJJJJJJJJJJJJJJJJJJJJJJJJJJJJJJJJJJJJJJJJJJJJJFAAAA\tNH:i:1\tHI:i:1\tAS:i:195\tnM:i:1\n",
            "J00113:159:HFK2LBBXX:1:1114:25114:31716\t163\t17\t40154371\t255\t99M\t=\t40154410\t147\tTTCCCGTTTGTGTCCGAGAAGCCCGTGAGAGGGGGGTCGAGGAGAGAAGGAGGGGCAAGAGCCCCCTTCTTCGTCGGGTGAGCGCCCACCCCGCGCACT\tAAFFFJJJJJJJJJJJJJJJJJJJJJJJJJJJJJJJJJJJJJJJJJJJJJJJJJJJJJJJJJJJJJJJJJJJJJJJFJJJJJJJJJJJJJJJJJJJJJJ\tNH:i:1\tHI:i:1\tAS:i:173\tnM:i:3\n",
            "J00113:159:HFK2LBBXX:1:1114:25114:31716\t83\t17\t40154410\t255\t64M8D36M\t=\t40154371\t-147\tAGGAGAGAAGGAGGGGCAAGAGCCCCCTTCTTCGTCGGGTGAGCGCCCACCCCGCGCACTAGTACGCCTGTGCGTAGGGCTGGTGCTGAGCGGTCGCGGC\tJJJJJJJJJJJJJJJJJJJJJJJFJJJFJJJJJJJJJJJJJJJJJJJJJJJJJJJJJJJJJJJJJJJJJJJJJJJJJJJJJJJJJJJJJJJJJFJFFFAA\tNH:i:1\tHI:i:1\tAS:i:173\tnM:i:3\n",
            "J00113:159:HFK2LBBXX:1:1114:2006:33387\t163\t17\t40155430\t255\t96M4S\t=\t40155694\t364\tGGCCGCGTCCGGCGCGACGTCGGACGTGGGGACCCACTGCCGCTCGGGGGTCTTCGTCGGTAGGCATCGGAGTGTCGGCATCGGTCTCTCTCTCGTCACG\tA<AFFF-AFJ<JJFJA<<F<<J<-7--<F7<JAJFJJ<-AA<<-7<FJ7F7AJ<FF-AAJ<J<<<F<<---7AAJJJF7--7FF<A<77F-<-7F---77\tNH:i:1\tHI:i:1\tAS:i:190\tnM:i:2\n"
          ]
        }
      ]
    },
    {
      "cell_type": "code",
      "source": [
        "# sort alignment and save in BAM file\n",
        "!samtools sort {STAR_DIR}/ALIGNMENT/chr17Aligned.out.sam -o {STAR_DIR}/ALIGNMENT/chr17Aligned.out.bam"
      ],
      "metadata": {
        "id": "nYW7mmXqHfzd"
      },
      "execution_count": 14,
      "outputs": []
    },
    {
      "cell_type": "code",
      "source": [
        "# look at the first 10 lines of the sorted BAM file\n",
        "# Question: Which position is the first read in this (sorted) BAM file?\n",
        "!samtools view -h {STAR_DIR}/ALIGNMENT/chr17Aligned.out.bam | head -10"
      ],
      "metadata": {
        "id": "gZLmW3iv9cN-",
        "colab": {
          "base_uri": "https://localhost:8080/"
        },
        "outputId": "a40ca360-f41c-431b-c3d2-6601791dc6b6"
      },
      "execution_count": 15,
      "outputs": [
        {
          "output_type": "stream",
          "name": "stdout",
          "text": [
            "@HD\tVN:1.4\tSO:coordinate\n",
            "@SQ\tSN:17\tLN:95294699\n",
            "@PG\tID:STAR\tPN:STAR\tVN:2.7.11b\tCL:/content/mnt/MyDrive/NASA/GL4HS/STAR/STAR-2.7.11b/bin/Linux_x86_64_static/STAR   --runThreadN 2   --genomeDir /content/mnt/MyDrive/NASA/GL4HS/REFERENCE/MM39_CHR17   --readFilesIn /content/mnt/MyDrive/NASA/GL4HS/FASTQ/TRIM/PAIRED/reduced_r1_val_1.fq   /content/mnt/MyDrive/NASA/GL4HS/FASTQ/TRIM/PAIRED/reduced_r2_val_2.fq      --outFileNamePrefix /content/mnt/MyDrive/NASA/GL4HS/STAR/ALIGNMENT/chr17\n",
            "@PG\tID:samtools\tPN:samtools\tPP:STAR\tVN:1.13\tCL:samtools sort -o /content/mnt/MyDrive/NASA/GL4HS/STAR/ALIGNMENT/chr17Aligned.out.bam /content/mnt/MyDrive/NASA/GL4HS/STAR/ALIGNMENT/chr17Aligned.out.sam\n",
            "@PG\tID:samtools.1\tPN:samtools\tPP:samtools\tVN:1.13\tCL:samtools view -h /content/mnt/MyDrive/NASA/GL4HS/STAR/ALIGNMENT/chr17Aligned.out.bam\n",
            "@CO\tuser command line: /content/mnt/MyDrive/NASA/GL4HS/STAR/STAR-2.7.11b/bin/Linux_x86_64_static/STAR --outFileNamePrefix /content/mnt/MyDrive/NASA/GL4HS/STAR/ALIGNMENT/chr17 --readFilesIn /content/mnt/MyDrive/NASA/GL4HS/FASTQ/TRIM/PAIRED/reduced_r1_val_1.fq /content/mnt/MyDrive/NASA/GL4HS/FASTQ/TRIM/PAIRED/reduced_r2_val_2.fq --genomeDir /content/mnt/MyDrive/NASA/GL4HS/REFERENCE/MM39_CHR17 --runThreadN 2\n",
            "J00113:159:HFK2LBBXX:3:2204:3528:20480\t355\t17\t3094220\t3\t100M\t=\t3094240\t120\tCCCATTATGAACTGGCTTGTCAACCAACTACAACACTGTCTAGCAGACACACGGTAAAAAGGGCTCGGCTCAGAATCGTCCAGATCTCTCCCGGTCTCTT\tAAFFFJJJJJJJJJJJJJJJJJJJJJJJJJJJJJJJJJJJJJJJJJJJJJJJJJJJJJJJJJJJJJJJJJJJJJJJJJJJJJJJJJJJJJJJJJJJJJJJ\tNH:i:2\tHI:i:2\tAS:i:198\tnM:i:0\n",
            "J00113:159:HFK2LBBXX:2:2219:6471:36517\t355\t17\t3094221\t3\t82M\t=\t3094221\t82\tCCATTATGAACTGGCTTGTCAACCAACTACAACACTGTCTAGCAGACACACGGTAAAAAGGGCTCGGCTCAGAATCGTCCAG\tAAFFFJJJJJJJJFJJJJJJJJJJJJJJJJJJJJJJJJJJJJJJJJJJJJJJJJJJJJJJJJJJJJJJJJJJJJJJJJJJJJ\tNH:i:2\tHI:i:2\tAS:i:162\tnM:i:0\n",
            "J00113:159:HFK2LBBXX:2:2219:6471:36517\t403\t17\t3094221\t3\t82M\t=\t3094221\t-82\tCCATTATGAACTGGCTTGTCAACCAACTACAACACTGTCTAGCAGACACACGGTAAAAAGGGCTCGGCTCAGAATCGTCCAG\tJJJJJJJJJJJJJJJJJJJJJJJJJJJJJJJJJJJJJJJJJJJJJJJJJJJJJJJJJJJJJJJJJJJJJJJJJJJJJFFFAA\tNH:i:2\tHI:i:2\tAS:i:162\tnM:i:0\n",
            "J00113:159:HFK2LBBXX:3:2204:3528:20480\t403\t17\t3094240\t3\t100M\t=\t3094220\t-120\tCAACCAACTACAACACTGTCTAGCAGACACACGGTAAAAAGGGCTCGGCTCAGAATCGTCCAGATCTCTCCCGGTCTCTTGACCGCCTCCTGTCACGCTC\tJJJJFJJJJJJJJJJJJJJJJJJFJJJJJJJJJJJJJJJJJJJJJJJJJJJJJJJJJJJJFJJJJJJJJJJJJJJJJJJJJJJJJJFJFJJJJFAFFAAA\tNH:i:2\tHI:i:2\tAS:i:198\tnM:i:0\n"
          ]
        }
      ]
    },
    {
      "cell_type": "code",
      "source": [
        "# count all aligned reads in BAM file\n",
        "!samtools view -c {STAR_DIR}/ALIGNMENT/chr17Aligned.out.bam"
      ],
      "metadata": {
        "id": "2I4Igi2zCCYA",
        "colab": {
          "base_uri": "https://localhost:8080/"
        },
        "outputId": "a3d93087-9e63-4048-9f3c-593a200ce9ed"
      },
      "execution_count": 16,
      "outputs": [
        {
          "output_type": "stream",
          "name": "stdout",
          "text": [
            "83004\n"
          ]
        }
      ]
    },
    {
      "cell_type": "code",
      "source": [
        "# count number of reads with MAPQ quality score 20 or higher in BAM file\n",
        "!samtools view -q 20 -c {STAR_DIR}/ALIGNMENT/chr17Aligned.out.bam"
      ],
      "metadata": {
        "id": "Q46pOUDqCmrX",
        "colab": {
          "base_uri": "https://localhost:8080/"
        },
        "outputId": "b915694b-19be-4a3c-ae21-98772bf0d98f"
      },
      "execution_count": 17,
      "outputs": [
        {
          "output_type": "stream",
          "name": "stdout",
          "text": [
            "68828\n"
          ]
        }
      ]
    },
    {
      "cell_type": "code",
      "source": [
        "# calculate percentage of reads with MAPQ > 20 in BAM file\n",
        "q20 = !samtools view -q 20 -c {STAR_DIR}/ALIGNMENT/chr17Aligned.out.bam\n",
        "total = !samtools view -c {STAR_DIR}/ALIGNMENT/chr17Aligned.out.bam\n",
        "int(q20[0]) / int(total[0])"
      ],
      "metadata": {
        "id": "9AGM9HBcDEwi",
        "colab": {
          "base_uri": "https://localhost:8080/"
        },
        "outputId": "eb7ef7eb-5e30-4d99-bcb1-ae4fa0c7c01a"
      },
      "execution_count": 18,
      "outputs": [
        {
          "output_type": "execute_result",
          "data": {
            "text/plain": [
              "0.8292130499734952"
            ]
          },
          "metadata": {},
          "execution_count": 18
        }
      ]
    },
    {
      "cell_type": "markdown",
      "source": [
        "## Use `samtools` flagstat to get statistics on the alignment"
      ],
      "metadata": {
        "id": "RSerIDe0x3Gh"
      }
    },
    {
      "cell_type": "markdown",
      "source": [
        "Read the [samtools flagstat manpage](https://www.htslib.org/doc/samtools-flagstat.html) for more information."
      ],
      "metadata": {
        "id": "77hMDQH4x-Q5"
      }
    },
    {
      "cell_type": "code",
      "source": [
        "# get general stats on alignment from BAM file\n",
        "!samtools flagstat {STAR_DIR}/ALIGNMENT/chr17Aligned.out.bam"
      ],
      "metadata": {
        "id": "L_R-qxCHGGYT",
        "colab": {
          "base_uri": "https://localhost:8080/"
        },
        "outputId": "468e8c2f-b572-4089-e74f-e3f67650bf70"
      },
      "execution_count": 19,
      "outputs": [
        {
          "output_type": "stream",
          "name": "stdout",
          "text": [
            "83004 + 0 in total (QC-passed reads + QC-failed reads)\n",
            "73918 + 0 primary\n",
            "9086 + 0 secondary\n",
            "0 + 0 supplementary\n",
            "0 + 0 duplicates\n",
            "0 + 0 primary duplicates\n",
            "83004 + 0 mapped (100.00% : N/A)\n",
            "73918 + 0 primary mapped (100.00% : N/A)\n",
            "73918 + 0 paired in sequencing\n",
            "36962 + 0 read1\n",
            "36956 + 0 read2\n",
            "73906 + 0 properly paired (99.98% : N/A)\n",
            "73906 + 0 with itself and mate mapped\n",
            "12 + 0 singletons (0.02% : N/A)\n",
            "0 + 0 with mate mapped to a different chr\n",
            "0 + 0 with mate mapped to a different chr (mapQ>=5)\n"
          ]
        }
      ]
    },
    {
      "cell_type": "markdown",
      "source": [
        "Singletons are reads that are missing a mate (R1 or R2) in paired-end sequencing. You can read more [here](https://www.seqanswers.com/forum/bioinformatics/bioinformatics-aa/41311-what-is-singletons)."
      ],
      "metadata": {
        "id": "5z-1uxACPK_r"
      }
    },
    {
      "cell_type": "markdown",
      "source": [
        "## Use the `samtools mpileup` command to examine individual base mappings"
      ],
      "metadata": {
        "id": "wVwqbJtNyJ_b"
      }
    },
    {
      "cell_type": "markdown",
      "source": [
        "You can read more about samtools mpileup in the DESCRIPTION Pileup Format section of the [samtools manpage](https://www.htslib.org/doc/samtools-mpileup.html) and in this [Wikipedia article](https://en.wikipedia.org/wiki/Pileup_format)."
      ],
      "metadata": {
        "id": "LeCFjl1uQOgT"
      }
    },
    {
      "cell_type": "code",
      "source": [
        "# run mpileup in a region of the alignment in BAM file\n",
        "!samtools mpileup -f {REFERENCE_DIR}/Mus_musculus.GRCm39.dna.chromosome.17.fa {STAR_DIR}/ALIGNMENT/chr17Aligned.out.bam | sed -n '1,30p'"
      ],
      "metadata": {
        "id": "2tRv4-6xG1q3",
        "colab": {
          "base_uri": "https://localhost:8080/"
        },
        "outputId": "66f8d7d3-e27c-48b4-a869-f7f190042d66"
      },
      "execution_count": 20,
      "outputs": [
        {
          "output_type": "stream",
          "name": "stdout",
          "text": [
            "[mpileup] 1 samples in 1 input files\n",
            "17\t3094414\tA\t1\t^~.\t;\n",
            "17\t3094415\tT\t1\t.\t;\n",
            "17\t3094416\tC\t1\tT\t;\n",
            "17\t3094417\tG\t1\t.\tF\n",
            "17\t3094418\tG\t1\t.\tF\n",
            "17\t3094419\tG\t1\t.\tJ\n",
            "17\t3094420\tA\t1\t.\tJ\n",
            "17\t3094421\tC\t1\t.\tJ\n",
            "17\t3094422\tC\t1\t.\tJ\n",
            "17\t3094423\tT\t1\t.\tJ\n",
            "17\t3094424\tG\t1\t.\tJ\n",
            "17\t3094425\tG\t1\t.\tJ\n",
            "17\t3094426\tA\t1\t.\tJ\n",
            "17\t3094427\tT\t1\t.\tJ\n",
            "17\t3094428\tC\t2\t.^~.\tJA\n",
            "17\t3094429\tT\t2\t..\tJA\n",
            "17\t3094430\tA\t2\t..\tJF\n",
            "17\t3094431\tT\t2\t..\tJF\n",
            "17\t3094432\tG\t2\t..\tJF\n",
            "17\t3094433\tC\t2\t..\tJJ\n",
            "17\t3094434\tT\t2\t..\tJJ\n",
            "17\t3094435\tT\t2\t..\tJJ\n",
            "17\t3094436\tC\t2\t..\tJJ\n",
            "17\t3094437\tT\t2\t..\tJJ\n",
            "17\t3094438\tT\t2\t..\tJJ\n",
            "17\t3094439\tG\t2\t..\tJJ\n",
            "17\t3094440\tC\t2\t..\tJJ\n",
            "17\t3094441\tG\t1\t.\tJ\n",
            "17\t3094442\tC\t2\t..\tFJ\n",
            "17\t3094443\tC\t2\t..\tJJ\n"
          ]
        }
      ]
    },
    {
      "cell_type": "markdown",
      "source": [
        "# Check your work before moving on"
      ],
      "metadata": {
        "id": "Ym1NH3ZK9CvH"
      }
    },
    {
      "cell_type": "code",
      "source": [
        "# check disk space utilization (should be about 1.2GB)\n",
        "!du -sh /content/mnt/MyDrive/NASA/GL4HS"
      ],
      "metadata": {
        "id": "KbF6jOeh9Fpe",
        "colab": {
          "base_uri": "https://localhost:8080/"
        },
        "outputId": "e427f640-d7b9-4fb8-9a45-676b09816738"
      },
      "execution_count": 21,
      "outputs": [
        {
          "output_type": "stream",
          "name": "stdout",
          "text": [
            "1.7G\t/content/mnt/MyDrive/NASA/GL4HS\n"
          ]
        }
      ]
    },
    {
      "cell_type": "code",
      "source": [
        "# time the notebook\n",
        "import datetime\n",
        "end_time = datetime.datetime.now()\n",
        "print('notebook end time: ', end_time.strftime('%Y-%m-%d %H:%M:%S'))\n",
        "\n",
        "total_time = end_time - start_time\n",
        "print('notebook total runtime: ', total_time)"
      ],
      "metadata": {
        "id": "GkvTo2nh8rvB",
        "colab": {
          "base_uri": "https://localhost:8080/"
        },
        "outputId": "6ab8e646-8c47-44e4-9cbe-f748fc0fd10a"
      },
      "execution_count": 22,
      "outputs": [
        {
          "output_type": "stream",
          "name": "stdout",
          "text": [
            "notebook end time:  2025-07-14 20:16:15\n",
            "notebook total runtime:  0:34:11.229464\n"
          ]
        }
      ]
    }
  ]
}