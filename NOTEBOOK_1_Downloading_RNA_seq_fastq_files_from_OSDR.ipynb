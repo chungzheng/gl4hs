{
  "cells": [
    {
      "cell_type": "markdown",
      "metadata": {
        "id": "maruRXIIaTxm"
      },
      "source": [
        "<div>\n",
        "<img src=\"https://www.nasa.gov/wp-content/uploads/2024/07/osdr-gl4hs-logo.png\" width=\"600\"/>\n",
        "</div>"
      ]
    },
    {
      "cell_type": "markdown",
      "metadata": {
        "id": "OpIiLcYiwyxD"
      },
      "source": [
        "# **NOTEBOOK 1: Downloading RNA-seq data from OSDR**\n",
        "\n",
        "In this notebook, we will be downloading data from [OSD-104](https://osdr.nasa.gov/bio/repo/data/studies/OSD-104). This dataset includes [transcriptomic](https://en.wikipedia.org/wiki/Transcriptome) data that were collected during the NASA [Rodent Research 1 mission (RR1)](https://nlsp.nasa.gov/view/lsdapub/lsda_experiment/7633383e-fe88-5ada-92dd-cd31a50fda32).\n",
        "\n",
        "## **OSD-104 dataset**\n",
        "\n",
        "NASA's Rodent Research (RR) project advances biomedical research on spaceflight’s physiological effects. With limited ISS resources, efficient crew time use is vital. GeneLab enhances RR value by applying multi-omics approaches and sharing data openly.\n",
        "\n",
        "The OSD-104 study was part of a [SpaceX-4 mission](https://osdr.nasa.gov/bio/repo/data/missions/SpaceX-4) that started on September 21, 2014 and ended October 25, 2014. There were several biological payloads on this mission, including rodents, fruit flies, plants, and yeast. This data is stored in the [Ames Life Science Data Archive](https://techport.nasa.gov/projects/145035).\n",
        "\n",
        "The OSD-104 study used rodents to capture transcriptomic and epigenomic data from mouse muscle.\n",
        "\n",
        "The [RNA sequencing](https://en.wikipedia.org/wiki/RNA-Seq) was performed on the [Illumina HiSeq 4000](https://support.illumina.com/sequencing/sequencing_instruments/hiseq-4000/documentation.html) platform, three high output HiSeq lanes with 100 bp [paired end](https://www.biostars.org/p/314258/) [stranded](https://www.biostars.org/p/9482535/) reads. The RNA-sequencing experiment was performed by the [UC Davis Genome Center](https://genomecenter.ucdavis.edu/).\n",
        "\n",
        "## **Objectives of this notebook**\n",
        "The primary objective of this notebook is to download 2 FASTQ files (one for each paired end reads of a single sample). In subsequent notebooks, we will use this downloaded data to perform quality checking, alignment, and quantification. You can read more about FASTQ files in this [Wikipedia page](https://en.wikipedia.org/wiki/FASTQ_format).\n",
        "\n",
        "Because the free use of Google Drive has a [15GB limit](https://support.google.com/googleone/answer/9312312?hl=en), we have to pay careful attention to how much space we use in the labs. We provide a Python method which reduces the number of records in the FASTQ files by a configurable factor. Removing good records from a FASTQ file is not something one would normally do, but we are doing it in these labs so that you can go through all the steps to see how it is done and, at the same time, stay under the 15GB storage limit.\n",
        "\n",
        "## **UNIX commands introduced in this notebook**\n",
        "\n",
        "[`curl`](https://www.man7.org/linux/man-pages/man1/curl.1.html) command to download files from the Internet.\n",
        "\n",
        "[`sed`](https://www.man7.org/linux/man-pages/man1/sed.1p.html) command to search and replace content in files.\n",
        "\n",
        "[`head`](https://www.man7.org/linux/man-pages/man1/head.1p.html) command to display the first n lines of a file.\n",
        "\n",
        "[`ls`](https://www.man7.org/linux/man-pages/man1/ls.1p.html) command to list the contents of a directory.\n",
        "\n",
        "[`rm`](https://www.man7.org/linux/man-pages/man1/rm.1p.html) command to remove files and directories.\n",
        "\n",
        "[`gzip`](https://www.gnu.org/software/gzip/manual/gzip.html) command to compress files.\n",
        "\n",
        "[`du`](https://man7.org/linux/man-pages/man1/du.1.html) command to determine how much space our files take up.\n",
        "\n"
      ]
    },
    {
      "cell_type": "markdown",
      "metadata": {
        "id": "MbsdHhEvn0cc"
      },
      "source": [
        "# Prepare runtime environment for this lab\n",
        "\n",
        "In this first section, you will mount your Google drive to the notebooks `/content/mnt` directory, set environment variables that will be used in the notebook, and create directories that will be used throughout the course.\n"
      ]
    },
    {
      "cell_type": "code",
      "execution_count": 2,
      "metadata": {
        "id": "wuZaffD5o3mS",
        "colab": {
          "base_uri": "https://localhost:8080/"
        },
        "outputId": "ec4f5a37-0245-4331-d8e8-704830c3c557"
      },
      "outputs": [
        {
          "output_type": "stream",
          "name": "stdout",
          "text": [
            "Mounted at mnt\n"
          ]
        }
      ],
      "source": [
        "# mount google drive\n",
        "from google.colab import drive\n",
        "drive.flush_and_unmount()\n",
        "drive.mount(\"mnt\")"
      ]
    },
    {
      "cell_type": "markdown",
      "metadata": {
        "id": "Vzc_awNNUrO5"
      },
      "source": [
        "You can read more about mounting Google Drive to your Colab notebook in [this document](https://colab.research.google.com/notebooks/io.ipynb#scrollTo=u22w3BFiOveA)."
      ]
    },
    {
      "cell_type": "code",
      "execution_count": 3,
      "metadata": {
        "id": "fBlxH9FIgrlP",
        "colab": {
          "base_uri": "https://localhost:8080/"
        },
        "outputId": "1af2bf2a-3561-4d46-a669-c3631ed403c3"
      },
      "outputs": [
        {
          "output_type": "stream",
          "name": "stdout",
          "text": [
            "notebook start time:  2025-07-14 02:03:31\n"
          ]
        }
      ],
      "source": [
        "# time the notebook\n",
        "import datetime\n",
        "start_time = datetime.datetime.now()\n",
        "print('notebook start time: ', start_time.strftime('%Y-%m-%d %H:%M:%S'))"
      ]
    },
    {
      "cell_type": "code",
      "execution_count": 4,
      "metadata": {
        "id": "09QH8xP-yXcU"
      },
      "outputs": [],
      "source": [
        "# create directory on google drive\n",
        "import os\n",
        "FASTQ_DIR=\"/content/mnt/MyDrive/NASA/GL4HS/FASTQ\"\n",
        "if not os.path.exists(FASTQ_DIR):\n",
        "  !mkdir -p {FASTQ_DIR}"
      ]
    },
    {
      "cell_type": "code",
      "execution_count": 5,
      "metadata": {
        "id": "iQ3A5u0VvvaV"
      },
      "outputs": [],
      "source": [
        "# define OSD and GLDS dataset for notebook\n",
        "OSD_DATASET='104'\n",
        "GLDS_DATASET='104'"
      ]
    },
    {
      "cell_type": "code",
      "execution_count": 6,
      "metadata": {
        "id": "aZums29rwcme"
      },
      "outputs": [],
      "source": [
        "# define GLDS sample name\n",
        "SAMPLE_NAME='Mmus_C57-6J_SLS_GC_Rep1_M33'\n",
        "SAMPLE_FILE_NAME='GLDS-' + GLDS_DATASET + '_rna_seq_' + SAMPLE_NAME\n",
        "!echo $SAMPLE_NAME > {FASTQ_DIR}/SAMPLE_NAME.txt"
      ]
    },
    {
      "cell_type": "code",
      "execution_count": 7,
      "metadata": {
        "id": "r8c7KtH3tEST"
      },
      "outputs": [],
      "source": [
        "# define fastq file names\n",
        "# these are paired end reads, so there are 2 fastq files per sample\n",
        "FASTQ_FILE_NAME_1=SAMPLE_FILE_NAME + '_R1_raw.fastq.gz'\n",
        "FASTQ_FILE_NAME_2=SAMPLE_FILE_NAME + '_R2_raw.fastq.gz'"
      ]
    },
    {
      "cell_type": "code",
      "execution_count": 8,
      "metadata": {
        "id": "TQxVwFnLlnpb"
      },
      "outputs": [],
      "source": [
        "# set env variable for factor to reduce fastq file by\n",
        "# write it to file in case it needs to be used in subsequent notebook\n",
        "# reducing files to save time because this is a learning experience\n",
        "REDUCTION_FACTOR=100\n",
        "!echo $REDUCTION_FACTOR > {FASTQ_DIR}/REDUCTION_FACTOR.txt"
      ]
    },
    {
      "cell_type": "markdown",
      "metadata": {
        "id": "enFH4hSKEzfO"
      },
      "source": [
        "# Download FASTQ files from OSDR\n",
        "In this section, you will download 2 FASTQ files from the [Open Science Data Repository](https://www.nasa.gov/osdr/). These 2 FASTQ files will be used for the first several notebooks so you can learn how to process RNA-seq data."
      ]
    },
    {
      "cell_type": "code",
      "execution_count": 9,
      "metadata": {
        "id": "11LBcCQaNxwV",
        "colab": {
          "base_uri": "https://localhost:8080/"
        },
        "outputId": "9a6c2d6e-cae9-45cd-f1b6-30eb75298a98"
      },
      "outputs": [
        {
          "output_type": "stream",
          "name": "stdout",
          "text": [
            "https://visualization.osdr.nasa.gov/biodata/api/v2/dataset/OSD-104/files/?format=browser\n"
          ]
        }
      ],
      "source": [
        "# open another tab in your web browser and navigate to the following site\n",
        "# you don't need to directly download anything from this Web site in your Web browser.\n",
        "# we are showing this to you so that you know where the data is coming from.\n",
        "# files in OSDR associated w/ OSD 104\n",
        "url = !echo https://visualization.osdr.nasa.gov/biodata/api/v2/dataset/OSD-{OSD_DATASET}/files/\\?format=browser\n",
        "print(url[0])"
      ]
    },
    {
      "cell_type": "code",
      "execution_count": 10,
      "metadata": {
        "id": "vwuTOmwNv7Lf",
        "colab": {
          "base_uri": "https://localhost:8080/"
        },
        "outputId": "81383100-51ae-4110-c0f5-322af8f5f35b"
      },
      "outputs": [
        {
          "output_type": "stream",
          "name": "stdout",
          "text": [
            "  % Total    % Received % Xferd  Average Speed   Time    Time     Time  Current\n",
            "                                 Dload  Upload   Total   Spent    Left  Speed\n",
            "100  3876  100  3876    0     0   4247      0 --:--:-- --:--:-- --:--:--  4250\n",
            "100 4437M  100 4437M    0     0  25.4M      0  0:02:54  0:02:54 --:--:-- 23.0M\n",
            "  % Total    % Received % Xferd  Average Speed   Time    Time     Time  Current\n",
            "                                 Dload  Upload   Total   Spent    Left  Speed\n",
            "100  3868  100  3868    0     0   5389      0 --:--:-- --:--:-- --:--:--  5387\n",
            "100 4746M  100 4746M    0     0  30.9M      0  0:02:33  0:02:33 --:--:-- 44.3M\n"
          ]
        }
      ],
      "source": [
        "# download fastq files for sample from OSD\n",
        "# this could take up to 10 minutes per file\n",
        "#starting with ! will use the unix shell, some commands are unix and others are python\n",
        "\n",
        "!curl -L --output {FASTQ_DIR}/{FASTQ_FILE_NAME_1} \\\n",
        "   https://osdr.nasa.gov/geode-py/ws/studies/OSD-{OSD_DATASET}/download\\?source=datamanager\\&file={FASTQ_FILE_NAME_1}\n",
        "\n",
        "\n",
        "!curl -L --output {FASTQ_DIR}/{FASTQ_FILE_NAME_2} \\\n",
        "   https://osdr.nasa.gov/geode-py/ws/studies/OSD-{OSD_DATASET}/download\\?source=datamanager\\&file={FASTQ_FILE_NAME_2}"
      ]
    },
    {
      "cell_type": "code",
      "execution_count": 11,
      "metadata": {
        "id": "fZ-MNMlcwGq-",
        "colab": {
          "base_uri": "https://localhost:8080/"
        },
        "outputId": "b19d1b7e-4a0e-48b8-c35c-e98d752aefd6"
      },
      "outputs": [
        {
          "output_type": "stream",
          "name": "stdout",
          "text": [
            "-rw------- 1 root root 4.4G Jul 14 02:09 /content/mnt/MyDrive/NASA/GL4HS/FASTQ/GLDS-104_rna_seq_Mmus_C57-6J_SLS_GC_Rep1_M33_R1_raw.fastq.gz\n",
            "-rw------- 1 root root 4.7G Jul 14 02:11 /content/mnt/MyDrive/NASA/GL4HS/FASTQ/GLDS-104_rna_seq_Mmus_C57-6J_SLS_GC_Rep1_M33_R2_raw.fastq.gz\n"
          ]
        }
      ],
      "source": [
        "# check the fastq zip file sizes\n",
        "# (should be around 4.5GB each)\n",
        "!ls -lh {FASTQ_DIR}/{FASTQ_FILE_NAME_1}\n",
        "!ls -lh {FASTQ_DIR}/{FASTQ_FILE_NAME_2}\n"
      ]
    },
    {
      "cell_type": "code",
      "execution_count": 13,
      "metadata": {
        "id": "DP_l-jpchI18",
        "colab": {
          "base_uri": "https://localhost:8080/"
        },
        "outputId": "6e6bbee3-47a7-411a-93f3-e562bf2dcf81"
      },
      "outputs": [
        {
          "output_type": "stream",
          "name": "stdout",
          "text": [
            "�\tE��\u0001��o\u0000\n",
            "^C\n"
          ]
        }
      ],
      "source": [
        "# read the first 10 bases and quality scores of the first record from r1\n",
        "# read the last 10 bases of the first record in reverse from r2\n",
        "# they should be complementary base-paired\n",
        "!sed -n '2,2 p' {FASTQ_DIR}/{FASTQ_FILE_NAME_1} | cut -c 1-10\n",
        "!sed -n '2,2 p' {FASTQ_DIR}/{FASTQ_FILE_NAME_2} | rev | cut -c 1-10"
      ]
    },
    {
      "cell_type": "markdown",
      "metadata": {
        "id": "V2tf7ZZhvBGx"
      },
      "source": [
        "# Reduce FASTQ file sizes\n",
        "\n",
        "In this section, you will define and run a Python method that will reduce the size of a FASTQ file. The reason we are doing this is because your free Google account has a limit of 15GB storage in Google Drive, and the FASTQ files we are using are almost 10GB per sample.\n",
        "\n",
        "The way the method works is that it only keeps a fraction of the records in the FASTQ file. This fraction is defined by the environment variable `REDUCTION_FACTOR` you set earlier in this notebook."
      ]
    },
    {
      "cell_type": "code",
      "execution_count": 14,
      "metadata": {
        "id": "VqlzMad2WrKt"
      },
      "outputs": [],
      "source": [
        "# define method to read compressed FASTQ from file and reduce its size\n",
        "def reduce_fastq_gz(input_file, output_file, read_every):\n",
        "  import datetime\n",
        "  import sys\n",
        "  import gzip\n",
        "  import os\n",
        "\n",
        "  # Get current date and time\n",
        "  start = datetime.datetime.now()\n",
        "  print('starting reduce_fastq_gz at: ', start.strftime('%Y-%m-%d %H:%M:%S'))\n",
        "  if os.path.exists(output_file):\n",
        "    os.remove(output_file)\n",
        "  with gzip.open(input_file, 'r') as f_in:\n",
        "    with open(output_file, 'a') as f_out:\n",
        "      record_count = 0\n",
        "      while True:\n",
        "        # Read 4 lines (1 record)\n",
        "        record = []\n",
        "        for i in range(4):\n",
        "          record.append(f_in.readline().decode())\n",
        "        if not record[0]:  # End of file\n",
        "          break\n",
        "        if record_count % read_every == 0:  # Keep every read_every'th record\n",
        "          for i in range(4):\n",
        "            f_out.write(record[i])\n",
        "        record_count += 1\n",
        "    f_out.close()\n",
        "  f_in.close()\n",
        "  end = datetime.datetime.now()\n",
        "  print('ending reduce_fastq_gz at: ', end.strftime('%Y-%m-%d %H:%M:%S'))"
      ]
    },
    {
      "cell_type": "code",
      "execution_count": 15,
      "metadata": {
        "id": "U01iUeFCbFDs",
        "colab": {
          "base_uri": "https://localhost:8080/"
        },
        "outputId": "34988ff7-af03-4fa0-c3d6-e01e42176851"
      },
      "outputs": [
        {
          "output_type": "stream",
          "name": "stdout",
          "text": [
            "-rw------- 1 root root 4.4G Jul 14 02:09 /content/mnt/MyDrive/NASA/GL4HS/FASTQ/GLDS-104_rna_seq_Mmus_C57-6J_SLS_GC_Rep1_M33_R1_raw.fastq.gz\n",
            "starting reduce_fastq_gz at:  2025-07-14 02:14:09\n",
            "ending reduce_fastq_gz at:  2025-07-14 02:20:00\n",
            "-rw------- 1 root root 216M Jul 14 02:20 /content/mnt/MyDrive/NASA/GL4HS/FASTQ/reduced_r1.fastq\n"
          ]
        }
      ],
      "source": [
        "# call reduce_fastq_gz method to decompress and reduce size of R1 fastq file by factor of REDUCTION_FACTOR\n",
        "# the file size should be about 200MB\n",
        "# this can take up to 10 mins\n",
        "import os\n",
        "!ls -lh {FASTQ_DIR}/{FASTQ_FILE_NAME_1}\n",
        "fastq_file_path = os.path.join(FASTQ_DIR, FASTQ_FILE_NAME_1)\n",
        "reduced_fastq_file_path = os.path.join(FASTQ_DIR, 'reduced_r1.fastq')\n",
        "if os.path.exists(reduced_fastq_file_path):\n",
        "  os.remove(reduced_fastq_file_path)\n",
        "reduce_fastq_gz(fastq_file_path, reduced_fastq_file_path, REDUCTION_FACTOR)\n",
        "!ls -lh {FASTQ_DIR}/reduced_r1.fastq"
      ]
    },
    {
      "cell_type": "code",
      "execution_count": 16,
      "metadata": {
        "id": "JHQUtekUKg1l"
      },
      "outputs": [],
      "source": [
        "# remove the original FASTQ_FILE_NAME_1 to save space on google drive\n",
        "!rm -f {FASTQ_DIR}/{FASTQ_FILE_NAME_1}"
      ]
    },
    {
      "cell_type": "code",
      "execution_count": 17,
      "metadata": {
        "id": "TRHE86P1dw7t",
        "colab": {
          "base_uri": "https://localhost:8080/"
        },
        "outputId": "d0a1f996-3625-47bb-c671-0e8b5a7569ff"
      },
      "outputs": [
        {
          "output_type": "stream",
          "name": "stdout",
          "text": [
            "-rw------- 1 root root 4.7G Jul 14 02:11 /content/mnt/MyDrive/NASA/GL4HS/FASTQ/GLDS-104_rna_seq_Mmus_C57-6J_SLS_GC_Rep1_M33_R2_raw.fastq.gz\n",
            "starting reduce_fastq_gz at:  2025-07-14 02:20:01\n",
            "ending reduce_fastq_gz at:  2025-07-14 02:26:09\n",
            "-rw------- 1 root root 216M Jul 14 02:26 /content/mnt/MyDrive/NASA/GL4HS/FASTQ/reduced_r2.fastq\n"
          ]
        }
      ],
      "source": [
        "# call reduce_fastq_gz method to decompress and reduce size of R2 fastq file by factor of REDUCTION_FACTOR\n",
        "# the file size should be about 200MB\n",
        "# this can take up to 10 mins\n",
        "!ls -lh {FASTQ_DIR}/{FASTQ_FILE_NAME_2}\n",
        "fastq_file_path = os.path.join(FASTQ_DIR, FASTQ_FILE_NAME_2)\n",
        "reduced_fastq_file_path = os.path.join(FASTQ_DIR, 'reduced_r2.fastq')\n",
        "if os.path.exists(reduced_fastq_file_path):\n",
        "  os.remove(reduced_fastq_file_path)\n",
        "reduce_fastq_gz(fastq_file_path, reduced_fastq_file_path, REDUCTION_FACTOR)\n",
        "!ls -lh {FASTQ_DIR}/reduced_r2.fastq"
      ]
    },
    {
      "cell_type": "code",
      "execution_count": 18,
      "metadata": {
        "id": "3T0YS80WKmMr"
      },
      "outputs": [],
      "source": [
        "# remove the original FASTQ_FILE_NAME_2 to save space on google drive\n",
        "!rm -f {FASTQ_DIR}/{FASTQ_FILE_NAME_2}"
      ]
    },
    {
      "cell_type": "markdown",
      "metadata": {
        "id": "3MvXq2xmvIA-"
      },
      "source": [
        "# Examine and compress FASTQ files\n",
        "In this section, you will use the `sed` command to read specific lines in each of the 2 FASTQ files.  You can learn more about quality scores on this [Wikipedia page](https://en.wikipedia.org/wiki/Phred_quality_score). You may notice quality scores decreasing as the read goes from the 5' end to the 3' end - a phenomenon discussed in [this article](https://scienceparkstudygroup.github.io/rna-seq-lesson/03-qc-of-sequencing-results/index.html#322-sequencing-error-profiles)."
      ]
    },
    {
      "cell_type": "code",
      "execution_count": 19,
      "metadata": {
        "id": "aKLH2JXb2LFp",
        "colab": {
          "base_uri": "https://localhost:8080/"
        },
        "outputId": "9b9921a9-b81b-468f-b40f-d84069c35d63"
      },
      "outputs": [
        {
          "output_type": "stream",
          "name": "stdout",
          "text": [
            "CTCCTTTCTC\n",
            "TCACCGTGTG\n"
          ]
        }
      ],
      "source": [
        "# read the first 10 bases and quality scores of the first record from r1\n",
        "# read the last 10 bases of the first record in reverse from r2\n",
        "# your output will very unlikely be complementary-base paired because the sequences are\n",
        "# not ordered in the fastq files after having been heavily reduced :)\n",
        "# but overall the records are reverse-complementary because they are read 5' to 3'\n",
        "# from the 2 strands of cDNA\n",
        "#fastq 2nd line: sequence data\n",
        "!sed -n '2,2 p' {FASTQ_DIR}/reduced_r1.fastq | cut -c 1-10\n",
        "!sed -n '2,2 p' {FASTQ_DIR}/reduced_r2.fastq | rev | cut -c 1-10"
      ]
    },
    {
      "cell_type": "code",
      "execution_count": 20,
      "metadata": {
        "id": "ktw5ry7_LD29",
        "colab": {
          "base_uri": "https://localhost:8080/"
        },
        "outputId": "dc96eaa3-9bff-445a-e09d-c44101b6f4cc"
      },
      "outputs": [
        {
          "output_type": "stream",
          "name": "stdout",
          "text": [
            "AAAFFJJF-A\n",
            "7-)7AA-F<F\n"
          ]
        }
      ],
      "source": [
        "# look at the quality scores of the first 10 bases of each record\n",
        "# note that quality scores reflect the probability that the base was read incorrectly\n",
        "# quality scores are represented by ASCII characters\n",
        "#fastq 4th line: quality score\n",
        "!sed -n '4,4 p' {FASTQ_DIR}/reduced_r1.fastq | cut -c 1-10\n",
        "!sed -n '4,4 p' {FASTQ_DIR}/reduced_r2.fastq | rev | cut -c 1-10"
      ]
    },
    {
      "cell_type": "markdown",
      "metadata": {
        "id": "3xijVXB9VwVv"
      },
      "source": [
        "Each FASTQ record has a record identifier as the first line. There are no requirements around the format of this line, and you're not required to have any text in the record. The RNA sequence itself is in the second line and contains ASCII characters including A, C, G, T, and N - where N is a nucleotide which could not be identified. You can read more about N's in FASTQ files in [this FAQ](https://dnatech.ucdavis.edu/faqs/my-fastq-file-contains-ns-is-there-a-problem-with-my-data). The fourth line is a quality score, and there is one ASCII character representing the quality per nucleotide, where quality represents the probability that the base was erroneously called. Lower quality scores are better than higher ones.\n",
        "\n",
        "The relationship between the records in R1 and R2 is reverse-complementary. You can read more about that in [this biostars thread](https://www.biostars.org/p/145590/) and in this [youtube video](https://www.youtube.com/watch?v=WOrZMDibiSQ)."
      ]
    },
    {
      "cell_type": "code",
      "execution_count": 21,
      "metadata": {
        "id": "OVzxqZ-kIUiV",
        "colab": {
          "base_uri": "https://localhost:8080/"
        },
        "outputId": "c2bd03b5-aef6-4b33-c1ab-230acca80534"
      },
      "outputs": [
        {
          "output_type": "stream",
          "name": "stdout",
          "text": [
            "@J00113:162:H7W32BBXX:1:1101:4990:1947 1:N:0:TAGGAT\n",
            "CTCCTTTCTCTGTACCGTCTGGAGTGGCACACACATAAGTGGGCAACATCTTCACAGGGGCGGCCTCATGCGTCTCCTTGCTCAGACCCTGCTCCATTTCCACCTTCATCCTTCTCTTAACCTCCAGCAGCTGTTCATGGCTCAGCTTCA\n",
            "+\n",
            "AAAFFJJF-AFAFFJJ-FJF<AAJFJJF777F<FA-FF7FAJF7AAJ<<F7<FFF-<777FF<FJAJA7AFFFF7FFFJFF-FJJJJJJAFJ-FJ7<AAJJFJJFAFFFJJ7-A-FAJFJJF-AJA<JAAF-AFAJ<A-FF-F)FJ--F7\n"
          ]
        }
      ],
      "source": [
        "# take a look at the first 4 lines (1 record) of the first fastq file\n",
        "#head: entire record (first file)\n",
        "!head -n 4 {FASTQ_DIR}/reduced_r1.fastq"
      ]
    },
    {
      "cell_type": "code",
      "execution_count": 22,
      "metadata": {
        "id": "Syv-A4ztLnkP",
        "colab": {
          "base_uri": "https://localhost:8080/"
        },
        "outputId": "df657017-ecde-4386-ee77-7ca765aab6aa"
      },
      "outputs": [
        {
          "output_type": "stream",
          "name": "stdout",
          "text": [
            "@J00113:162:H7W32BBXX:1:1101:4990:1947 2:N:0:TAGGAT\n",
            "CGCCAGAAGACCCTGGAGTCGCTGAAGCTGAGCCATGAACAGCTGCTGGAGGTTAAGAGAAGGATGAAGGTGGAAATGGAGCAGGGTCTGAGCAAGGAGACGCATGAGGCCGCCCCTGTGAAGATGTTGCCCACTTATGTGTGTGCCACT\n",
            "+\n",
            "AA-AF7AJ<<<77-7A7F<--7777<<<-<<F77--7--77<-777-7F77F-7-7<<F77<F-<A7<<F-AJA7A-7FAF7AFJJ)7)AFFJAFAJAJAAFJ--7AFJA<<7--7-<<F<<F<FFFFJ<<<)-)-<FAAF<F-AA7)-7\n"
          ]
        }
      ],
      "source": [
        "# take a look at the first 4 lines (1 record) of the second fastq file\n",
        "#head: entire record (second file)\n",
        "!head -n 4 {FASTQ_DIR}/reduced_r2.fastq"
      ]
    },
    {
      "cell_type": "code",
      "execution_count": 23,
      "metadata": {
        "id": "t1h3wE4pypl_",
        "colab": {
          "base_uri": "https://localhost:8080/"
        },
        "outputId": "1b0ac3b8-fc3a-4f39-e1cb-48bc661989ed"
      },
      "outputs": [
        {
          "output_type": "stream",
          "name": "stdout",
          "text": [
            "-rw------- 1 root root 42M Jul 14 02:26 /content/mnt/MyDrive/NASA/GL4HS/FASTQ/reduced_r1.fastq.gz\n",
            "-rw------- 1 root root 45M Jul 14 02:27 /content/mnt/MyDrive/NASA/GL4HS/FASTQ/reduced_r2.fastq.gz\n"
          ]
        }
      ],
      "source": [
        "# compress reduced fastq files (gzip unix command)\n",
        "#reduced_r1_fastq --> reduced_r1.fastq.gz\n",
        "# reduces size from 220MB to approximately 43MB\n",
        "!gzip -c {FASTQ_DIR}/reduced_r1.fastq > {FASTQ_DIR}/reduced_r1.fastq.gz\n",
        "!gzip -c {FASTQ_DIR}/reduced_r2.fastq > {FASTQ_DIR}/reduced_r2.fastq.gz\n",
        "#checking lengths of new files\n",
        "!ls -lh {FASTQ_DIR}/reduced_r1.fastq.gz\n",
        "!ls -lh {FASTQ_DIR}/reduced_r2.fastq.gz"
      ]
    },
    {
      "cell_type": "code",
      "execution_count": 28,
      "metadata": {
        "id": "R_clXQygfRSL"
      },
      "outputs": [],
      "source": [
        "# remove the reduced uncompressed files\n",
        "# we won't be needing them anymore and they take up a lot of space\n",
        "!rm -f {FASTQ_DIR}/reduced_r1.fastq\n",
        "!rm -f {FASTQ_DIR}/reduced_r2.fastq"
      ]
    },
    {
      "cell_type": "markdown",
      "metadata": {
        "id": "YcKwcKkjE711"
      },
      "source": [
        "# Check your work before moving on\n",
        "\n",
        "In this section, you will check how much disk space you're utilizing with the `du` command and `ls` command."
      ]
    },
    {
      "cell_type": "code",
      "execution_count": 25,
      "metadata": {
        "id": "nHQhRZ8wfk08",
        "colab": {
          "base_uri": "https://localhost:8080/"
        },
        "outputId": "9a6e10a9-e80f-4e95-d9e0-703c811faefb"
      },
      "outputs": [
        {
          "output_type": "stream",
          "name": "stdout",
          "text": [
            "87M\t/content/mnt/MyDrive/NASA/GL4HS/FASTQ\n"
          ]
        }
      ],
      "source": [
        "# check space used in Google drive (should have about 87MB used)\n",
        "!du -sh {FASTQ_DIR}"
      ]
    },
    {
      "cell_type": "code",
      "execution_count": 26,
      "metadata": {
        "id": "53I3OLzXgDOF",
        "colab": {
          "base_uri": "https://localhost:8080/"
        },
        "outputId": "b23c7656-9d88-4078-dc0a-0a8aa4bdb3b7"
      },
      "outputs": [
        {
          "output_type": "stream",
          "name": "stdout",
          "text": [
            "-rw------- 1 root root 42M Jul 14 02:26 /content/mnt/MyDrive/NASA/GL4HS/FASTQ/reduced_r1.fastq.gz\n",
            "-rw------- 1 root root 45M Jul 14 02:27 /content/mnt/MyDrive/NASA/GL4HS/FASTQ/reduced_r2.fastq.gz\n"
          ]
        }
      ],
      "source": [
        "# check before going on\n",
        "# make sure you a reduce files called reduced_r1.fastq.gz and reduced_r2.fastq.gz of size 45M in your FASTQ_DIR\n",
        "!ls -lh {FASTQ_DIR}/reduced_r1.fastq.gz\n",
        "!ls -lh {FASTQ_DIR}/reduced_r2.fastq.gz"
      ]
    },
    {
      "cell_type": "code",
      "execution_count": 27,
      "metadata": {
        "id": "aErxIYjRg8w9",
        "colab": {
          "base_uri": "https://localhost:8080/"
        },
        "outputId": "bb1f5b2d-c6c3-4119-83d2-7258c8b75ec8"
      },
      "outputs": [
        {
          "output_type": "stream",
          "name": "stdout",
          "text": [
            "notebook end time:  2025-07-14 02:27:15\n",
            "total notebook time:  0:23:43.479151\n"
          ]
        }
      ],
      "source": [
        "# time the notebook\n",
        "import datetime\n",
        "end_time = datetime.datetime.now()\n",
        "print('notebook end time: ', end_time.strftime('%Y-%m-%d %H:%M:%S'))\n",
        "\n",
        "total_notebook_time = end_time - start_time\n",
        "print('total notebook time: ', total_notebook_time)"
      ]
    }
  ],
  "metadata": {
    "colab": {
      "provenance": [],
      "toc_visible": true
    },
    "kernelspec": {
      "display_name": "Python 3",
      "name": "python3"
    },
    "language_info": {
      "name": "python"
    }
  },
  "nbformat": 4,
  "nbformat_minor": 0
}