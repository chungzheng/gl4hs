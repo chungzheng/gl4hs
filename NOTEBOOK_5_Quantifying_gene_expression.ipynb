{
  "nbformat": 4,
  "nbformat_minor": 0,
  "metadata": {
    "colab": {
      "provenance": [],
      "toc_visible": true
    },
    "kernelspec": {
      "name": "python3",
      "display_name": "Python 3"
    },
    "language_info": {
      "name": "python"
    }
  },
  "cells": [
    {
      "cell_type": "markdown",
      "source": [
        "<div>\n",
        "<img src=\"https://www.nasa.gov/wp-content/uploads/2024/07/osdr-gl4hs-logo.png\" width=\"600\"/>\n",
        "</div>"
      ],
      "metadata": {
        "id": "heuFk2XLbAg8"
      }
    },
    {
      "cell_type": "markdown",
      "source": [
        "# **NOTEBOOK 5: Quantifying gene expression**\n",
        "In this notebook, you will assign a number for each gene that represents the number of RNA transcripts for that gene that your sample expressed in the tissue at a point in time.\n",
        "\n",
        "## **Objectives of this notebook**\n",
        "The primary objective of this notebook is to quantify the gene expression of the one sample's reduced chromosome 17 alignment. You will then compare the gene expression counts for your sample's chromosome 17 to those obtained by the GeneLab processing team. We expect that the quantities should be off by a factor approximately near `REDUCTION_FACTOR`.\n",
        "\n",
        "## **UNIX commands introduced in this notebook**\n",
        "\n",
        "`grep` command to search for lines in files that have a matching pattern.\n",
        "\n",
        "`htseq-count ` command to quantify gene expression.\n",
        "\n"
      ],
      "metadata": {
        "id": "MbsdHhEvn0cc"
      }
    },
    {
      "cell_type": "markdown",
      "source": [
        "# Prepare your environment for this lab"
      ],
      "metadata": {
        "id": "5oHJQNkXTqed"
      }
    },
    {
      "cell_type": "code",
      "execution_count": 1,
      "metadata": {
        "id": "wuZaffD5o3mS",
        "colab": {
          "base_uri": "https://localhost:8080/"
        },
        "outputId": "47a8732f-4488-4f05-e849-9c7bf9b92555"
      },
      "outputs": [
        {
          "output_type": "stream",
          "name": "stdout",
          "text": [
            "Drive not mounted, so nothing to flush and unmount.\n",
            "Mounted at mnt\n"
          ]
        }
      ],
      "source": [
        "# mount your google drive\n",
        "from google.colab import drive\n",
        "drive.flush_and_unmount()\n",
        "drive.mount(\"mnt\")\n"
      ]
    },
    {
      "cell_type": "code",
      "source": [
        "# time the notebook\n",
        "import datetime\n",
        "start_time=datetime.datetime.now()\n",
        "print('notebook start time: ', start_time.strftime('%Y-%m-%d %H:%M:%S'))"
      ],
      "metadata": {
        "id": "zCQjiOl9_JqA",
        "colab": {
          "base_uri": "https://localhost:8080/"
        },
        "outputId": "ee30e0f7-5db9-42d9-df19-7dd11f7cf20d"
      },
      "execution_count": 2,
      "outputs": [
        {
          "output_type": "stream",
          "name": "stdout",
          "text": [
            "notebook start time:  2025-07-15 02:58:59\n"
          ]
        }
      ]
    },
    {
      "cell_type": "code",
      "source": [
        "# set env variables for OSD dataset to use in this lab\n",
        "OSD_DATASET='104'\n",
        "GLDS_DATASET='104'"
      ],
      "metadata": {
        "id": "y0zHUqUXe9J4"
      },
      "execution_count": 3,
      "outputs": []
    },
    {
      "cell_type": "code",
      "source": [
        "# set FASTQ_DIR directory location in google drive\n",
        "import os\n",
        "FASTQ_DIR=\"/content/mnt/MyDrive/NASA/GL4HS/FASTQ\"\n",
        "if not os.path.exists(FASTQ_DIR):\n",
        "  raise Exception(\"STOP! You must finish the previous notebooks before running this one\")"
      ],
      "metadata": {
        "id": "09QH8xP-yXcU"
      },
      "execution_count": 4,
      "outputs": []
    },
    {
      "cell_type": "code",
      "source": [
        "# read env var for reduction factor from first notebook\n",
        "import os\n",
        "with open(f\"{FASTQ_DIR}/SAMPLE_NAME.txt\", \"r\") as f:\n",
        "  OSD_SAMPLE=f.read().strip()\n",
        "if not OSD_SAMPLE:\n",
        "  raise Exception(\"STOP! You must finish the previous notebooks before running this one\")\n",
        "print(OSD_SAMPLE)"
      ],
      "metadata": {
        "id": "B3F65jsTSF6n",
        "colab": {
          "base_uri": "https://localhost:8080/"
        },
        "outputId": "7c49c3f4-0b5b-4b52-c9e3-a3a488d8568d"
      },
      "execution_count": 5,
      "outputs": [
        {
          "output_type": "stream",
          "name": "stdout",
          "text": [
            "Mmus_C57-6J_SLS_GC_Rep1_M33\n"
          ]
        }
      ]
    },
    {
      "cell_type": "code",
      "source": [
        "# read env var for reduction factor from first notebook\n",
        "import os\n",
        "with open(f\"{FASTQ_DIR}/REDUCTION_FACTOR.txt\", \"r\") as f:\n",
        "  REDUCTION_FACTOR=f.read()\n",
        "if not REDUCTION_FACTOR:\n",
        "  raise Exception(\"STOP! You must finish the previous notebooks before running this one\")\n",
        "print(REDUCTION_FACTOR)"
      ],
      "metadata": {
        "id": "QLuaYNI-l7pp",
        "colab": {
          "base_uri": "https://localhost:8080/"
        },
        "outputId": "ad637463-4105-4d28-8be1-e34dea0e7fef"
      },
      "execution_count": 6,
      "outputs": [
        {
          "output_type": "stream",
          "name": "stdout",
          "text": [
            "100\n",
            "\n"
          ]
        }
      ]
    },
    {
      "cell_type": "code",
      "source": [
        "# set REFERENCE_DIR directory location in google drive\n",
        "import os\n",
        "REFERENCE_DIR=\"/content/mnt/MyDrive/NASA/GL4HS/REFERENCE\"\n",
        "if not os.path.exists(REFERENCE_DIR):\n",
        "  raise Exception(\"STOP! You must finish the previous notebooks before running this one\")"
      ],
      "metadata": {
        "id": "fZPjJTKKVrK5"
      },
      "execution_count": 7,
      "outputs": []
    },
    {
      "cell_type": "code",
      "source": [
        "# set ALIGNMENT_DIR directory location in google drive\n",
        "import os\n",
        "ALIGNMENT_DIR=\"/content/mnt/MyDrive/NASA/GL4HS/STAR/ALIGNMENT\"\n",
        "if not os.path.exists(ALIGNMENT_DIR):\n",
        "  raise Exception(\"STOP! You must finish the previous notebooks before running this one\")"
      ],
      "metadata": {
        "id": "z4t3vgUmYgMa"
      },
      "execution_count": 8,
      "outputs": []
    },
    {
      "cell_type": "code",
      "source": [
        "# set COUNTS_DIR directory location in google drive\n",
        "import os\n",
        "COUNTS_DIR=\"/content/mnt/MyDrive/NASA/GL4HS/COUNTS\"\n",
        "if not os.path.exists(COUNTS_DIR):\n",
        "  !mkdir -p {COUNTS_DIR}"
      ],
      "metadata": {
        "id": "LlMgkdGsYrJS"
      },
      "execution_count": 9,
      "outputs": []
    },
    {
      "cell_type": "code",
      "source": [
        "# install htseq\n",
        "!pip install HTSeq"
      ],
      "metadata": {
        "id": "mpgYCrDrLRI8",
        "colab": {
          "base_uri": "https://localhost:8080/"
        },
        "outputId": "dbeef89a-63c5-449f-8b28-cfdea9602a16"
      },
      "execution_count": 10,
      "outputs": [
        {
          "output_type": "stream",
          "name": "stdout",
          "text": [
            "Collecting HTSeq\n",
            "  Downloading HTSeq-2.0.9-cp311-cp311-manylinux_2_24_x86_64.manylinux_2_28_x86_64.whl.metadata (3.8 kB)\n",
            "Requirement already satisfied: numpy in /usr/local/lib/python3.11/dist-packages (from HTSeq) (2.0.2)\n",
            "Collecting pysam (from HTSeq)\n",
            "  Downloading pysam-0.23.3-cp311-cp311-manylinux_2_28_x86_64.whl.metadata (1.7 kB)\n",
            "Downloading HTSeq-2.0.9-cp311-cp311-manylinux_2_24_x86_64.manylinux_2_28_x86_64.whl (2.2 MB)\n",
            "\u001b[2K   \u001b[90m━━━━━━━━━━━━━━━━━━━━━━━━━━━━━━━━━━━━━━━━\u001b[0m \u001b[32m2.2/2.2 MB\u001b[0m \u001b[31m35.8 MB/s\u001b[0m eta \u001b[36m0:00:00\u001b[0m\n",
            "\u001b[?25hDownloading pysam-0.23.3-cp311-cp311-manylinux_2_28_x86_64.whl (26.5 MB)\n",
            "\u001b[2K   \u001b[90m━━━━━━━━━━━━━━━━━━━━━━━━━━━━━━━━━━━━━━━━\u001b[0m \u001b[32m26.5/26.5 MB\u001b[0m \u001b[31m88.3 MB/s\u001b[0m eta \u001b[36m0:00:00\u001b[0m\n",
            "\u001b[?25hInstalling collected packages: pysam, HTSeq\n",
            "Successfully installed HTSeq-2.0.9 pysam-0.23.3\n"
          ]
        }
      ]
    },
    {
      "cell_type": "code",
      "source": [
        "# determine the version of htseq installed\n",
        "!htseq-count --version"
      ],
      "metadata": {
        "id": "-j2BT8klO_by",
        "colab": {
          "base_uri": "https://localhost:8080/"
        },
        "outputId": "f21f2c35-e480-4b44-a908-b9c925220af0"
      },
      "execution_count": 11,
      "outputs": [
        {
          "output_type": "stream",
          "name": "stdout",
          "text": [
            "2.0.9\n"
          ]
        }
      ]
    },
    {
      "cell_type": "code",
      "source": [
        "# download gene annotation for GRCm39 (mouse)\n",
        "import os\n",
        "if not os.path.exists(f\"{REFERENCE_DIR}/gencode.vM36.primary_assembly.basic.annotation.gtf.gz\"):\n",
        "  !mkdir -p {REFERENCE_DIR}\n",
        "  !wget -O {REFERENCE_DIR}/gencode.vM36.primary_assembly.basic.annotation.gtf.gz \\\n",
        "    https://ftp.ebi.ac.uk/pub/databases/gencode/Gencode_mouse/release_M36/gencode.vM36.primary_assembly.basic.annotation.gtf.gz"
      ],
      "metadata": {
        "id": "BMqeSDqmOa5p"
      },
      "execution_count": 12,
      "outputs": []
    },
    {
      "cell_type": "code",
      "source": [
        "# remove all but chr17 annotations\n",
        "# change \"chr17\" to \"17\" in the GTF file as that's what the htseq-count is expecting\n",
        "# gzip the file\n",
        "!gunzip -c {REFERENCE_DIR}/gencode.vM36.primary_assembly.basic.annotation.gtf.gz > {REFERENCE_DIR}/gencode.vM36.primary_assembly.basic.annotation.gtf\n",
        "!grep ^chr17 {REFERENCE_DIR}/gencode.vM36.primary_assembly.basic.annotation.gtf | sed 's/chr17/17/' > {REFERENCE_DIR}/chr17.gtf\n",
        "!gzip -c {REFERENCE_DIR}/chr17.gtf > {REFERENCE_DIR}/chr17.gtf.gz\n"
      ],
      "metadata": {
        "id": "X_end-Xwr5fE"
      },
      "execution_count": 13,
      "outputs": []
    },
    {
      "cell_type": "markdown",
      "source": [
        "Read the [GTF documentation](https://www.gencodegenes.org/mouse/) and the [GTF Wikipedia page](https://en.wikipedia.org/wiki/Gene_transfer_format) for more information about basic mouse gene annotation."
      ],
      "metadata": {
        "id": "voLmgHVs9Hpe"
      }
    },
    {
      "cell_type": "code",
      "source": [
        "# check the first 10 lines of the GTF annotation file\n",
        "!head -10 {REFERENCE_DIR}/chr17.gtf"
      ],
      "metadata": {
        "id": "IGFUld9jZmNw",
        "colab": {
          "base_uri": "https://localhost:8080/"
        },
        "outputId": "58f30690-6de0-4281-cb50-cd1924d18420"
      },
      "execution_count": 14,
      "outputs": [
        {
          "output_type": "stream",
          "name": "stdout",
          "text": [
            "17\tHAVANA\tgene\t3091857\t3093685\t.\t+\t.\tgene_id \"ENSMUSG00000122713.1\"; gene_type \"lncRNA\"; gene_name \"ENSMUSG00000122713\"; level 2; tag \"overlapping_locus\"; tag \"overlaps_pseudogene\";\n",
            "17\tHAVANA\ttranscript\t3091866\t3093685\t.\t+\t.\tgene_id \"ENSMUSG00000122713.1\"; transcript_id \"ENSMUST00000254456.1\"; gene_type \"lncRNA\"; gene_name \"ENSMUSG00000122713\"; transcript_type \"lncRNA\"; transcript_name \"ENSMUST00000254456\"; level 2; tag \"basic\"; tag \"Ensembl_canonical\"; tag \"TAGENE\";\n",
            "17\tHAVANA\texon\t3091866\t3092128\t.\t+\t.\tgene_id \"ENSMUSG00000122713.1\"; transcript_id \"ENSMUST00000254456.1\"; gene_type \"lncRNA\"; gene_name \"ENSMUSG00000122713\"; transcript_type \"lncRNA\"; transcript_name \"ENSMUST00000254456\"; exon_number 1; exon_id \"ENSMUSE00001505513.1\"; level 2; tag \"basic\"; tag \"Ensembl_canonical\"; tag \"TAGENE\";\n",
            "17\tHAVANA\texon\t3092284\t3093685\t.\t+\t.\tgene_id \"ENSMUSG00000122713.1\"; transcript_id \"ENSMUST00000254456.1\"; gene_type \"lncRNA\"; gene_name \"ENSMUSG00000122713\"; transcript_type \"lncRNA\"; transcript_name \"ENSMUST00000254456\"; exon_number 2; exon_id \"ENSMUSE00001505514.1\"; level 2; tag \"basic\"; tag \"Ensembl_canonical\"; tag \"TAGENE\";\n",
            "17\tHAVANA\tgene\t3092299\t3092578\t.\t+\t.\tgene_id \"ENSMUSG00000116896.2\"; gene_type \"transcribed_processed_pseudogene\"; gene_name \"Gm49792\"; level 2; mgi_id \"MGI:6215320\"; tag \"overlapping_locus\"; havana_gene \"OTTMUSG00000071853.1\";\n",
            "17\tHAVANA\ttranscript\t3092299\t3092578\t.\t+\t.\tgene_id \"ENSMUSG00000116896.2\"; transcript_id \"ENSMUST00000232026.2\"; gene_type \"transcribed_processed_pseudogene\"; gene_name \"Gm49792\"; transcript_type \"transcribed_processed_pseudogene\"; transcript_name \"Gm49792-201\"; level 2; mgi_id \"MGI:6215320\"; ont \"PGO:0000004\"; ont \"PGO:0000019\"; tag \"basic\"; tag \"Ensembl_canonical\"; havana_gene \"OTTMUSG00000071853.1\"; havana_transcript \"OTTMUST00000173783.1\";\n",
            "17\tHAVANA\texon\t3092299\t3092578\t.\t+\t.\tgene_id \"ENSMUSG00000116896.2\"; transcript_id \"ENSMUST00000232026.2\"; gene_type \"transcribed_processed_pseudogene\"; gene_name \"Gm49792\"; transcript_type \"transcribed_processed_pseudogene\"; transcript_name \"Gm49792-201\"; exon_number 1; exon_id \"ENSMUSE00001447785.2\"; level 2; mgi_id \"MGI:6215320\"; ont \"PGO:0000004\"; ont \"PGO:0000019\"; tag \"basic\"; tag \"Ensembl_canonical\"; havana_gene \"OTTMUSG00000071853.1\"; havana_transcript \"OTTMUST00000173783.1\";\n",
            "17\tHAVANA\tgene\t3094289\t3095008\t.\t-\t.\tgene_id \"ENSMUSG00000068141.6\"; gene_type \"processed_pseudogene\"; gene_name \"Gm10232\"; level 2; mgi_id \"MGI:3641637\"; havana_gene \"OTTMUSG00000034618.1\";\n",
            "17\tHAVANA\ttranscript\t3094289\t3095008\t.\t-\t.\tgene_id \"ENSMUSG00000068141.6\"; transcript_id \"ENSMUST00000089221.3\"; gene_type \"processed_pseudogene\"; gene_name \"Gm10232\"; transcript_type \"processed_pseudogene\"; transcript_name \"Gm10232-201\"; level 2; transcript_support_level \"NA\"; mgi_id \"MGI:3641637\"; ont \"PGO:0000004\"; tag \"basic\"; tag \"Ensembl_canonical\"; havana_gene \"OTTMUSG00000034618.1\"; havana_transcript \"OTTMUST00000087860.1\";\n",
            "17\tHAVANA\texon\t3094289\t3095008\t.\t-\t.\tgene_id \"ENSMUSG00000068141.6\"; transcript_id \"ENSMUST00000089221.3\"; gene_type \"processed_pseudogene\"; gene_name \"Gm10232\"; transcript_type \"processed_pseudogene\"; transcript_name \"Gm10232-201\"; exon_number 1; exon_id \"ENSMUSE00000477530.4\"; level 2; transcript_support_level \"NA\"; mgi_id \"MGI:3641637\"; ont \"PGO:0000004\"; tag \"basic\"; tag \"Ensembl_canonical\"; havana_gene \"OTTMUSG00000034618.1\"; havana_transcript \"OTTMUST00000087860.1\";\n"
          ]
        }
      ]
    },
    {
      "cell_type": "markdown",
      "source": [
        "Question: What is lncRNA? Feel free to read more about that in this [Wikipedia article](https://en.wikipedia.org/wiki/Long_non-coding_RNA)."
      ],
      "metadata": {
        "id": "zij_0NUf-qeR"
      }
    },
    {
      "cell_type": "markdown",
      "source": [
        "# Use HTSEQ to quantify gene expression"
      ],
      "metadata": {
        "id": "NQ1clO-WTyR8"
      }
    },
    {
      "cell_type": "markdown",
      "source": [
        "Read the [htseq-count manual](https://htseq.readthedocs.io/en/master/htseqcount.html) for more information."
      ],
      "metadata": {
        "id": "R9OLuFnD8xEV"
      }
    },
    {
      "cell_type": "code",
      "source": [
        "# run htseq to quantify the gene expression\n",
        "\n",
        "!htseq-count -n 2 \\\n",
        "  --format bam \\\n",
        "  --order pos \\\n",
        "  --stranded reverse \\\n",
        "  {ALIGNMENT_DIR}/chr17Aligned.out.bam \\\n",
        "  {REFERENCE_DIR}/chr17.gtf.gz \\\n",
        "  > {COUNTS_DIR}/chr17-counts.tsv"
      ],
      "metadata": {
        "id": "brTAHVZxLSpk",
        "colab": {
          "base_uri": "https://localhost:8080/"
        },
        "outputId": "2a2b7116-5e2c-4a9a-c455-65bf2fa4a3e1"
      },
      "execution_count": 15,
      "outputs": [
        {
          "output_type": "stream",
          "name": "stdout",
          "text": [
            "73633 GFF lines processed.\n",
            "Warning: Mate records missing for 12 records; first such record: <SAM_Alignment object: Paired-end read 'J00113:158:H7W7YBBXX:8:2127:8329:16313' aligned to 17:[24034664,24034764)/->.\n",
            "36965 alignment record pairs processed.\n"
          ]
        }
      ]
    },
    {
      "cell_type": "markdown",
      "source": [
        "Note that you may get a warning about \"mate records missing\" from `htseq-count`. You can ignore this warning -- it's a known bug in the `htseq-count` software. Read [this github issue](https://github.com/simon-anders/htseq/issues/37) for more information if you're curious."
      ],
      "metadata": {
        "id": "EPSbpsRCyflm"
      }
    },
    {
      "cell_type": "code",
      "source": [
        "# look at the first 10 lines of the counts file\n",
        "!head -10 {COUNTS_DIR}/chr17-counts.tsv"
      ],
      "metadata": {
        "id": "4Lgg7ABl67hm",
        "colab": {
          "base_uri": "https://localhost:8080/"
        },
        "outputId": "a3684cdb-6110-43ce-e855-f26efd789467"
      },
      "execution_count": 16,
      "outputs": [
        {
          "output_type": "stream",
          "name": "stdout",
          "text": [
            "ENSMUSG00000000127.16\t14\n",
            "ENSMUSG00000000579.15\t2\n",
            "ENSMUSG00000000673.10\t0\n",
            "ENSMUSG00000000708.15\t71\n",
            "ENSMUSG00000001227.13\t1\n",
            "ENSMUSG00000001228.15\t1\n",
            "ENSMUSG00000001229.10\t18\n",
            "ENSMUSG00000001524.15\t4\n",
            "ENSMUSG00000001525.11\t49\n",
            "ENSMUSG00000001576.16\t13\n"
          ]
        }
      ]
    },
    {
      "cell_type": "code",
      "source": [
        "# read count data from file into dataframe\n",
        "import pandas as pd\n",
        "counts_df=pd.read_csv(f\"{COUNTS_DIR}/chr17-counts.tsv\", sep=\"\\t\", header=None)\n",
        "counts_df.head()"
      ],
      "metadata": {
        "id": "QY8_lbHSgtEH",
        "colab": {
          "base_uri": "https://localhost:8080/",
          "height": 206
        },
        "outputId": "d3c014f0-3828-4812-bbb5-e750385cf978"
      },
      "execution_count": 17,
      "outputs": [
        {
          "output_type": "execute_result",
          "data": {
            "text/plain": [
              "                       0   1\n",
              "0  ENSMUSG00000000127.16  14\n",
              "1  ENSMUSG00000000579.15   2\n",
              "2  ENSMUSG00000000673.10   0\n",
              "3  ENSMUSG00000000708.15  71\n",
              "4  ENSMUSG00000001227.13   1"
            ],
            "text/html": [
              "\n",
              "  <div id=\"df-58055b34-2431-41b0-a0fc-4a4501f41f76\" class=\"colab-df-container\">\n",
              "    <div>\n",
              "<style scoped>\n",
              "    .dataframe tbody tr th:only-of-type {\n",
              "        vertical-align: middle;\n",
              "    }\n",
              "\n",
              "    .dataframe tbody tr th {\n",
              "        vertical-align: top;\n",
              "    }\n",
              "\n",
              "    .dataframe thead th {\n",
              "        text-align: right;\n",
              "    }\n",
              "</style>\n",
              "<table border=\"1\" class=\"dataframe\">\n",
              "  <thead>\n",
              "    <tr style=\"text-align: right;\">\n",
              "      <th></th>\n",
              "      <th>0</th>\n",
              "      <th>1</th>\n",
              "    </tr>\n",
              "  </thead>\n",
              "  <tbody>\n",
              "    <tr>\n",
              "      <th>0</th>\n",
              "      <td>ENSMUSG00000000127.16</td>\n",
              "      <td>14</td>\n",
              "    </tr>\n",
              "    <tr>\n",
              "      <th>1</th>\n",
              "      <td>ENSMUSG00000000579.15</td>\n",
              "      <td>2</td>\n",
              "    </tr>\n",
              "    <tr>\n",
              "      <th>2</th>\n",
              "      <td>ENSMUSG00000000673.10</td>\n",
              "      <td>0</td>\n",
              "    </tr>\n",
              "    <tr>\n",
              "      <th>3</th>\n",
              "      <td>ENSMUSG00000000708.15</td>\n",
              "      <td>71</td>\n",
              "    </tr>\n",
              "    <tr>\n",
              "      <th>4</th>\n",
              "      <td>ENSMUSG00000001227.13</td>\n",
              "      <td>1</td>\n",
              "    </tr>\n",
              "  </tbody>\n",
              "</table>\n",
              "</div>\n",
              "    <div class=\"colab-df-buttons\">\n",
              "\n",
              "  <div class=\"colab-df-container\">\n",
              "    <button class=\"colab-df-convert\" onclick=\"convertToInteractive('df-58055b34-2431-41b0-a0fc-4a4501f41f76')\"\n",
              "            title=\"Convert this dataframe to an interactive table.\"\n",
              "            style=\"display:none;\">\n",
              "\n",
              "  <svg xmlns=\"http://www.w3.org/2000/svg\" height=\"24px\" viewBox=\"0 -960 960 960\">\n",
              "    <path d=\"M120-120v-720h720v720H120Zm60-500h600v-160H180v160Zm220 220h160v-160H400v160Zm0 220h160v-160H400v160ZM180-400h160v-160H180v160Zm440 0h160v-160H620v160ZM180-180h160v-160H180v160Zm440 0h160v-160H620v160Z\"/>\n",
              "  </svg>\n",
              "    </button>\n",
              "\n",
              "  <style>\n",
              "    .colab-df-container {\n",
              "      display:flex;\n",
              "      gap: 12px;\n",
              "    }\n",
              "\n",
              "    .colab-df-convert {\n",
              "      background-color: #E8F0FE;\n",
              "      border: none;\n",
              "      border-radius: 50%;\n",
              "      cursor: pointer;\n",
              "      display: none;\n",
              "      fill: #1967D2;\n",
              "      height: 32px;\n",
              "      padding: 0 0 0 0;\n",
              "      width: 32px;\n",
              "    }\n",
              "\n",
              "    .colab-df-convert:hover {\n",
              "      background-color: #E2EBFA;\n",
              "      box-shadow: 0px 1px 2px rgba(60, 64, 67, 0.3), 0px 1px 3px 1px rgba(60, 64, 67, 0.15);\n",
              "      fill: #174EA6;\n",
              "    }\n",
              "\n",
              "    .colab-df-buttons div {\n",
              "      margin-bottom: 4px;\n",
              "    }\n",
              "\n",
              "    [theme=dark] .colab-df-convert {\n",
              "      background-color: #3B4455;\n",
              "      fill: #D2E3FC;\n",
              "    }\n",
              "\n",
              "    [theme=dark] .colab-df-convert:hover {\n",
              "      background-color: #434B5C;\n",
              "      box-shadow: 0px 1px 3px 1px rgba(0, 0, 0, 0.15);\n",
              "      filter: drop-shadow(0px 1px 2px rgba(0, 0, 0, 0.3));\n",
              "      fill: #FFFFFF;\n",
              "    }\n",
              "  </style>\n",
              "\n",
              "    <script>\n",
              "      const buttonEl =\n",
              "        document.querySelector('#df-58055b34-2431-41b0-a0fc-4a4501f41f76 button.colab-df-convert');\n",
              "      buttonEl.style.display =\n",
              "        google.colab.kernel.accessAllowed ? 'block' : 'none';\n",
              "\n",
              "      async function convertToInteractive(key) {\n",
              "        const element = document.querySelector('#df-58055b34-2431-41b0-a0fc-4a4501f41f76');\n",
              "        const dataTable =\n",
              "          await google.colab.kernel.invokeFunction('convertToInteractive',\n",
              "                                                    [key], {});\n",
              "        if (!dataTable) return;\n",
              "\n",
              "        const docLinkHtml = 'Like what you see? Visit the ' +\n",
              "          '<a target=\"_blank\" href=https://colab.research.google.com/notebooks/data_table.ipynb>data table notebook</a>'\n",
              "          + ' to learn more about interactive tables.';\n",
              "        element.innerHTML = '';\n",
              "        dataTable['output_type'] = 'display_data';\n",
              "        await google.colab.output.renderOutput(dataTable, element);\n",
              "        const docLink = document.createElement('div');\n",
              "        docLink.innerHTML = docLinkHtml;\n",
              "        element.appendChild(docLink);\n",
              "      }\n",
              "    </script>\n",
              "  </div>\n",
              "\n",
              "\n",
              "    <div id=\"df-bf71012b-07ef-411f-9752-b583402bb918\">\n",
              "      <button class=\"colab-df-quickchart\" onclick=\"quickchart('df-bf71012b-07ef-411f-9752-b583402bb918')\"\n",
              "                title=\"Suggest charts\"\n",
              "                style=\"display:none;\">\n",
              "\n",
              "<svg xmlns=\"http://www.w3.org/2000/svg\" height=\"24px\"viewBox=\"0 0 24 24\"\n",
              "     width=\"24px\">\n",
              "    <g>\n",
              "        <path d=\"M19 3H5c-1.1 0-2 .9-2 2v14c0 1.1.9 2 2 2h14c1.1 0 2-.9 2-2V5c0-1.1-.9-2-2-2zM9 17H7v-7h2v7zm4 0h-2V7h2v10zm4 0h-2v-4h2v4z\"/>\n",
              "    </g>\n",
              "</svg>\n",
              "      </button>\n",
              "\n",
              "<style>\n",
              "  .colab-df-quickchart {\n",
              "      --bg-color: #E8F0FE;\n",
              "      --fill-color: #1967D2;\n",
              "      --hover-bg-color: #E2EBFA;\n",
              "      --hover-fill-color: #174EA6;\n",
              "      --disabled-fill-color: #AAA;\n",
              "      --disabled-bg-color: #DDD;\n",
              "  }\n",
              "\n",
              "  [theme=dark] .colab-df-quickchart {\n",
              "      --bg-color: #3B4455;\n",
              "      --fill-color: #D2E3FC;\n",
              "      --hover-bg-color: #434B5C;\n",
              "      --hover-fill-color: #FFFFFF;\n",
              "      --disabled-bg-color: #3B4455;\n",
              "      --disabled-fill-color: #666;\n",
              "  }\n",
              "\n",
              "  .colab-df-quickchart {\n",
              "    background-color: var(--bg-color);\n",
              "    border: none;\n",
              "    border-radius: 50%;\n",
              "    cursor: pointer;\n",
              "    display: none;\n",
              "    fill: var(--fill-color);\n",
              "    height: 32px;\n",
              "    padding: 0;\n",
              "    width: 32px;\n",
              "  }\n",
              "\n",
              "  .colab-df-quickchart:hover {\n",
              "    background-color: var(--hover-bg-color);\n",
              "    box-shadow: 0 1px 2px rgba(60, 64, 67, 0.3), 0 1px 3px 1px rgba(60, 64, 67, 0.15);\n",
              "    fill: var(--button-hover-fill-color);\n",
              "  }\n",
              "\n",
              "  .colab-df-quickchart-complete:disabled,\n",
              "  .colab-df-quickchart-complete:disabled:hover {\n",
              "    background-color: var(--disabled-bg-color);\n",
              "    fill: var(--disabled-fill-color);\n",
              "    box-shadow: none;\n",
              "  }\n",
              "\n",
              "  .colab-df-spinner {\n",
              "    border: 2px solid var(--fill-color);\n",
              "    border-color: transparent;\n",
              "    border-bottom-color: var(--fill-color);\n",
              "    animation:\n",
              "      spin 1s steps(1) infinite;\n",
              "  }\n",
              "\n",
              "  @keyframes spin {\n",
              "    0% {\n",
              "      border-color: transparent;\n",
              "      border-bottom-color: var(--fill-color);\n",
              "      border-left-color: var(--fill-color);\n",
              "    }\n",
              "    20% {\n",
              "      border-color: transparent;\n",
              "      border-left-color: var(--fill-color);\n",
              "      border-top-color: var(--fill-color);\n",
              "    }\n",
              "    30% {\n",
              "      border-color: transparent;\n",
              "      border-left-color: var(--fill-color);\n",
              "      border-top-color: var(--fill-color);\n",
              "      border-right-color: var(--fill-color);\n",
              "    }\n",
              "    40% {\n",
              "      border-color: transparent;\n",
              "      border-right-color: var(--fill-color);\n",
              "      border-top-color: var(--fill-color);\n",
              "    }\n",
              "    60% {\n",
              "      border-color: transparent;\n",
              "      border-right-color: var(--fill-color);\n",
              "    }\n",
              "    80% {\n",
              "      border-color: transparent;\n",
              "      border-right-color: var(--fill-color);\n",
              "      border-bottom-color: var(--fill-color);\n",
              "    }\n",
              "    90% {\n",
              "      border-color: transparent;\n",
              "      border-bottom-color: var(--fill-color);\n",
              "    }\n",
              "  }\n",
              "</style>\n",
              "\n",
              "      <script>\n",
              "        async function quickchart(key) {\n",
              "          const quickchartButtonEl =\n",
              "            document.querySelector('#' + key + ' button');\n",
              "          quickchartButtonEl.disabled = true;  // To prevent multiple clicks.\n",
              "          quickchartButtonEl.classList.add('colab-df-spinner');\n",
              "          try {\n",
              "            const charts = await google.colab.kernel.invokeFunction(\n",
              "                'suggestCharts', [key], {});\n",
              "          } catch (error) {\n",
              "            console.error('Error during call to suggestCharts:', error);\n",
              "          }\n",
              "          quickchartButtonEl.classList.remove('colab-df-spinner');\n",
              "          quickchartButtonEl.classList.add('colab-df-quickchart-complete');\n",
              "        }\n",
              "        (() => {\n",
              "          let quickchartButtonEl =\n",
              "            document.querySelector('#df-bf71012b-07ef-411f-9752-b583402bb918 button');\n",
              "          quickchartButtonEl.style.display =\n",
              "            google.colab.kernel.accessAllowed ? 'block' : 'none';\n",
              "        })();\n",
              "      </script>\n",
              "    </div>\n",
              "\n",
              "    </div>\n",
              "  </div>\n"
            ],
            "application/vnd.google.colaboratory.intrinsic+json": {
              "type": "dataframe",
              "variable_name": "counts_df",
              "summary": "{\n  \"name\": \"counts_df\",\n  \"rows\": 3329,\n  \"fields\": [\n    {\n      \"column\": 0,\n      \"properties\": {\n        \"dtype\": \"string\",\n        \"num_unique_values\": 3329,\n        \"samples\": [\n          \"ENSMUSG00000033826.11\",\n          \"ENSMUSG00000117159.2\",\n          \"ENSMUSG00000079491.11\"\n        ],\n        \"semantic_type\": \"\",\n        \"description\": \"\"\n      }\n    },\n    {\n      \"column\": 1,\n      \"properties\": {\n        \"dtype\": \"number\",\n        \"std\": 210,\n        \"min\": 0,\n        \"max\": 11616,\n        \"num_unique_values\": 117,\n        \"samples\": [\n          90,\n          1,\n          35\n        ],\n        \"semantic_type\": \"\",\n        \"description\": \"\"\n      }\n    }\n  ]\n}"
            }
          },
          "metadata": {},
          "execution_count": 17
        }
      ]
    },
    {
      "cell_type": "code",
      "source": [
        "# remove any rows from the counts_df that do not begin with 'ENSMUSG'\n",
        "print('length before filter: ', len(counts_df))\n",
        "counts_df=counts_df[counts_df[0].str.startswith('ENSMUSG')]\n",
        "print('length after filter: ', len(counts_df))\n",
        "counts_df[0]"
      ],
      "metadata": {
        "id": "rdO5v1VnkUPb",
        "colab": {
          "base_uri": "https://localhost:8080/",
          "height": 493
        },
        "outputId": "c4478af1-791c-4656-b61b-0a0c4f05d1a3"
      },
      "execution_count": 18,
      "outputs": [
        {
          "output_type": "stream",
          "name": "stdout",
          "text": [
            "length before filter:  3329\n",
            "length after filter:  3324\n"
          ]
        },
        {
          "output_type": "execute_result",
          "data": {
            "text/plain": [
              "0       ENSMUSG00000000127.16\n",
              "1       ENSMUSG00000000579.15\n",
              "2       ENSMUSG00000000673.10\n",
              "3       ENSMUSG00000000708.15\n",
              "4       ENSMUSG00000001227.13\n",
              "                ...          \n",
              "3319     ENSMUSG00002076711.1\n",
              "3320     ENSMUSG00002076730.1\n",
              "3321     ENSMUSG00002076750.1\n",
              "3322     ENSMUSG00002076816.1\n",
              "3323     ENSMUSG00002076945.1\n",
              "Name: 0, Length: 3324, dtype: object"
            ],
            "text/html": [
              "<div>\n",
              "<style scoped>\n",
              "    .dataframe tbody tr th:only-of-type {\n",
              "        vertical-align: middle;\n",
              "    }\n",
              "\n",
              "    .dataframe tbody tr th {\n",
              "        vertical-align: top;\n",
              "    }\n",
              "\n",
              "    .dataframe thead th {\n",
              "        text-align: right;\n",
              "    }\n",
              "</style>\n",
              "<table border=\"1\" class=\"dataframe\">\n",
              "  <thead>\n",
              "    <tr style=\"text-align: right;\">\n",
              "      <th></th>\n",
              "      <th>0</th>\n",
              "    </tr>\n",
              "  </thead>\n",
              "  <tbody>\n",
              "    <tr>\n",
              "      <th>0</th>\n",
              "      <td>ENSMUSG00000000127.16</td>\n",
              "    </tr>\n",
              "    <tr>\n",
              "      <th>1</th>\n",
              "      <td>ENSMUSG00000000579.15</td>\n",
              "    </tr>\n",
              "    <tr>\n",
              "      <th>2</th>\n",
              "      <td>ENSMUSG00000000673.10</td>\n",
              "    </tr>\n",
              "    <tr>\n",
              "      <th>3</th>\n",
              "      <td>ENSMUSG00000000708.15</td>\n",
              "    </tr>\n",
              "    <tr>\n",
              "      <th>4</th>\n",
              "      <td>ENSMUSG00000001227.13</td>\n",
              "    </tr>\n",
              "    <tr>\n",
              "      <th>...</th>\n",
              "      <td>...</td>\n",
              "    </tr>\n",
              "    <tr>\n",
              "      <th>3319</th>\n",
              "      <td>ENSMUSG00002076711.1</td>\n",
              "    </tr>\n",
              "    <tr>\n",
              "      <th>3320</th>\n",
              "      <td>ENSMUSG00002076730.1</td>\n",
              "    </tr>\n",
              "    <tr>\n",
              "      <th>3321</th>\n",
              "      <td>ENSMUSG00002076750.1</td>\n",
              "    </tr>\n",
              "    <tr>\n",
              "      <th>3322</th>\n",
              "      <td>ENSMUSG00002076816.1</td>\n",
              "    </tr>\n",
              "    <tr>\n",
              "      <th>3323</th>\n",
              "      <td>ENSMUSG00002076945.1</td>\n",
              "    </tr>\n",
              "  </tbody>\n",
              "</table>\n",
              "<p>3324 rows × 1 columns</p>\n",
              "</div><br><label><b>dtype:</b> object</label>"
            ]
          },
          "metadata": {},
          "execution_count": 18
        }
      ]
    },
    {
      "cell_type": "markdown",
      "source": [
        "# Compare your count data to the GeneLab-processed count data for the same sample"
      ],
      "metadata": {
        "id": "J0JNMn114uZu"
      }
    },
    {
      "cell_type": "code",
      "source": [
        "# open another tab in your web browser and navigate to the following site:\n",
        "url=!echo https://visualization.osdr.nasa.gov/biodata/api/v2/dataset/OSD-{OSD_DATASET}/files/\\?format=browser\n",
        "print(url[0])"
      ],
      "metadata": {
        "id": "ap8hqs_jfZbH",
        "colab": {
          "base_uri": "https://localhost:8080/"
        },
        "outputId": "3dfad39d-53a3-4c40-b0be-379812089323"
      },
      "execution_count": 19,
      "outputs": [
        {
          "output_type": "stream",
          "name": "stdout",
          "text": [
            "https://visualization.osdr.nasa.gov/biodata/api/v2/dataset/OSD-104/files/?format=browser\n"
          ]
        }
      ]
    },
    {
      "cell_type": "code",
      "source": [
        "# download genelab-processed data for OSD dataset\n",
        "import pandas as pd\n",
        "#url = 'https://osdr.nasa.gov/geode-py/ws/studies/OSD-' + OSD_DATASET + '/download?source=datamanager\\&file=GLDS-' + GLDS_DATASET + '_rna_seq_STAR_Unnormalized_Counts.csv'url='https://osdr.nasa.gov/geode-py/ws/studies/OSD-' + osd_dataset + '/download?source=datamanager\\&file=GLDS-' + glds_dataset + '_rna_seq_STAR_Unnormalized_Counts.csv'\n",
        "url = 'https://osdr.nasa.gov/geode-py/ws/studies/OSD-' + OSD_DATASET + '/download?source=datamanager\\&file=GLDS-' + GLDS_DATASET + '_rna_seq_Unnormalized_Counts.csv'\n",
        "osd_df = pd.read_csv(url)\n",
        "osd_df.head()"
      ],
      "metadata": {
        "id": "xvJrFiof7SN9",
        "colab": {
          "base_uri": "https://localhost:8080/",
          "height": 226
        },
        "outputId": "16901fa7-b7fa-46ec-d3f9-fdc062fbcf46"
      },
      "execution_count": 20,
      "outputs": [
        {
          "output_type": "execute_result",
          "data": {
            "text/plain": [
              "           Unnamed: 0  Mmus_C57-6J_SLS_FLT_Rep1_M23  \\\n",
              "0  ENSMUSG00000000001                         869.0   \n",
              "1  ENSMUSG00000000003                           0.0   \n",
              "2  ENSMUSG00000000028                          91.0   \n",
              "3  ENSMUSG00000000031                       68226.0   \n",
              "4  ENSMUSG00000000037                           7.0   \n",
              "\n",
              "   Mmus_C57-6J_SLS_FLT_Rep2_M24  Mmus_C57-6J_SLS_FLT_Rep3_M25  \\\n",
              "0                         706.0                         835.0   \n",
              "1                           0.0                           0.0   \n",
              "2                         121.0                          87.0   \n",
              "3                       64898.0                       85595.0   \n",
              "4                           8.0                           9.0   \n",
              "\n",
              "   Mmus_C57-6J_SLS_FLT_Rep4_M26  Mmus_C57-6J_SLS_FLT_Rep5_M27  \\\n",
              "0                         871.0                        1069.0   \n",
              "1                           0.0                           0.0   \n",
              "2                         139.0                         193.0   \n",
              "3                       90775.0                       71300.0   \n",
              "4                          11.0                          11.0   \n",
              "\n",
              "   Mmus_C57-6J_SLS_FLT_Rep6_M28  Mmus_C57-6J_SLS_GC_Rep1_M33  \\\n",
              "0                         700.0                       1205.0   \n",
              "1                           0.0                          0.0   \n",
              "2                         104.0                        145.0   \n",
              "3                       56376.0                     143726.0   \n",
              "4                           5.0                         21.0   \n",
              "\n",
              "   Mmus_C57-6J_SLS_GC_Rep2_M34  Mmus_C57-6J_SLS_GC_Rep3_M35  \\\n",
              "0                        908.0                       1078.0   \n",
              "1                          0.0                          0.0   \n",
              "2                        117.0                        135.0   \n",
              "3                     104717.0                     128088.0   \n",
              "4                         10.0                         10.0   \n",
              "\n",
              "   Mmus_C57-6J_SLS_GC_Rep4_M36  Mmus_C57-6J_SLS_GC_Rep5_M37  \\\n",
              "0                        877.0                        884.0   \n",
              "1                          0.0                          0.0   \n",
              "2                        114.0                        128.0   \n",
              "3                     115071.0                     108243.0   \n",
              "4                          5.0                          3.0   \n",
              "\n",
              "   Mmus_C57-6J_SLS_GC_Rep6_M38  \n",
              "0                        911.0  \n",
              "1                          0.0  \n",
              "2                        130.0  \n",
              "3                     118878.0  \n",
              "4                         16.0  "
            ],
            "text/html": [
              "\n",
              "  <div id=\"df-cbda7c2b-10e0-42fd-9e5d-832bf74f2f0f\" class=\"colab-df-container\">\n",
              "    <div>\n",
              "<style scoped>\n",
              "    .dataframe tbody tr th:only-of-type {\n",
              "        vertical-align: middle;\n",
              "    }\n",
              "\n",
              "    .dataframe tbody tr th {\n",
              "        vertical-align: top;\n",
              "    }\n",
              "\n",
              "    .dataframe thead th {\n",
              "        text-align: right;\n",
              "    }\n",
              "</style>\n",
              "<table border=\"1\" class=\"dataframe\">\n",
              "  <thead>\n",
              "    <tr style=\"text-align: right;\">\n",
              "      <th></th>\n",
              "      <th>Unnamed: 0</th>\n",
              "      <th>Mmus_C57-6J_SLS_FLT_Rep1_M23</th>\n",
              "      <th>Mmus_C57-6J_SLS_FLT_Rep2_M24</th>\n",
              "      <th>Mmus_C57-6J_SLS_FLT_Rep3_M25</th>\n",
              "      <th>Mmus_C57-6J_SLS_FLT_Rep4_M26</th>\n",
              "      <th>Mmus_C57-6J_SLS_FLT_Rep5_M27</th>\n",
              "      <th>Mmus_C57-6J_SLS_FLT_Rep6_M28</th>\n",
              "      <th>Mmus_C57-6J_SLS_GC_Rep1_M33</th>\n",
              "      <th>Mmus_C57-6J_SLS_GC_Rep2_M34</th>\n",
              "      <th>Mmus_C57-6J_SLS_GC_Rep3_M35</th>\n",
              "      <th>Mmus_C57-6J_SLS_GC_Rep4_M36</th>\n",
              "      <th>Mmus_C57-6J_SLS_GC_Rep5_M37</th>\n",
              "      <th>Mmus_C57-6J_SLS_GC_Rep6_M38</th>\n",
              "    </tr>\n",
              "  </thead>\n",
              "  <tbody>\n",
              "    <tr>\n",
              "      <th>0</th>\n",
              "      <td>ENSMUSG00000000001</td>\n",
              "      <td>869.0</td>\n",
              "      <td>706.0</td>\n",
              "      <td>835.0</td>\n",
              "      <td>871.0</td>\n",
              "      <td>1069.0</td>\n",
              "      <td>700.0</td>\n",
              "      <td>1205.0</td>\n",
              "      <td>908.0</td>\n",
              "      <td>1078.0</td>\n",
              "      <td>877.0</td>\n",
              "      <td>884.0</td>\n",
              "      <td>911.0</td>\n",
              "    </tr>\n",
              "    <tr>\n",
              "      <th>1</th>\n",
              "      <td>ENSMUSG00000000003</td>\n",
              "      <td>0.0</td>\n",
              "      <td>0.0</td>\n",
              "      <td>0.0</td>\n",
              "      <td>0.0</td>\n",
              "      <td>0.0</td>\n",
              "      <td>0.0</td>\n",
              "      <td>0.0</td>\n",
              "      <td>0.0</td>\n",
              "      <td>0.0</td>\n",
              "      <td>0.0</td>\n",
              "      <td>0.0</td>\n",
              "      <td>0.0</td>\n",
              "    </tr>\n",
              "    <tr>\n",
              "      <th>2</th>\n",
              "      <td>ENSMUSG00000000028</td>\n",
              "      <td>91.0</td>\n",
              "      <td>121.0</td>\n",
              "      <td>87.0</td>\n",
              "      <td>139.0</td>\n",
              "      <td>193.0</td>\n",
              "      <td>104.0</td>\n",
              "      <td>145.0</td>\n",
              "      <td>117.0</td>\n",
              "      <td>135.0</td>\n",
              "      <td>114.0</td>\n",
              "      <td>128.0</td>\n",
              "      <td>130.0</td>\n",
              "    </tr>\n",
              "    <tr>\n",
              "      <th>3</th>\n",
              "      <td>ENSMUSG00000000031</td>\n",
              "      <td>68226.0</td>\n",
              "      <td>64898.0</td>\n",
              "      <td>85595.0</td>\n",
              "      <td>90775.0</td>\n",
              "      <td>71300.0</td>\n",
              "      <td>56376.0</td>\n",
              "      <td>143726.0</td>\n",
              "      <td>104717.0</td>\n",
              "      <td>128088.0</td>\n",
              "      <td>115071.0</td>\n",
              "      <td>108243.0</td>\n",
              "      <td>118878.0</td>\n",
              "    </tr>\n",
              "    <tr>\n",
              "      <th>4</th>\n",
              "      <td>ENSMUSG00000000037</td>\n",
              "      <td>7.0</td>\n",
              "      <td>8.0</td>\n",
              "      <td>9.0</td>\n",
              "      <td>11.0</td>\n",
              "      <td>11.0</td>\n",
              "      <td>5.0</td>\n",
              "      <td>21.0</td>\n",
              "      <td>10.0</td>\n",
              "      <td>10.0</td>\n",
              "      <td>5.0</td>\n",
              "      <td>3.0</td>\n",
              "      <td>16.0</td>\n",
              "    </tr>\n",
              "  </tbody>\n",
              "</table>\n",
              "</div>\n",
              "    <div class=\"colab-df-buttons\">\n",
              "\n",
              "  <div class=\"colab-df-container\">\n",
              "    <button class=\"colab-df-convert\" onclick=\"convertToInteractive('df-cbda7c2b-10e0-42fd-9e5d-832bf74f2f0f')\"\n",
              "            title=\"Convert this dataframe to an interactive table.\"\n",
              "            style=\"display:none;\">\n",
              "\n",
              "  <svg xmlns=\"http://www.w3.org/2000/svg\" height=\"24px\" viewBox=\"0 -960 960 960\">\n",
              "    <path d=\"M120-120v-720h720v720H120Zm60-500h600v-160H180v160Zm220 220h160v-160H400v160Zm0 220h160v-160H400v160ZM180-400h160v-160H180v160Zm440 0h160v-160H620v160ZM180-180h160v-160H180v160Zm440 0h160v-160H620v160Z\"/>\n",
              "  </svg>\n",
              "    </button>\n",
              "\n",
              "  <style>\n",
              "    .colab-df-container {\n",
              "      display:flex;\n",
              "      gap: 12px;\n",
              "    }\n",
              "\n",
              "    .colab-df-convert {\n",
              "      background-color: #E8F0FE;\n",
              "      border: none;\n",
              "      border-radius: 50%;\n",
              "      cursor: pointer;\n",
              "      display: none;\n",
              "      fill: #1967D2;\n",
              "      height: 32px;\n",
              "      padding: 0 0 0 0;\n",
              "      width: 32px;\n",
              "    }\n",
              "\n",
              "    .colab-df-convert:hover {\n",
              "      background-color: #E2EBFA;\n",
              "      box-shadow: 0px 1px 2px rgba(60, 64, 67, 0.3), 0px 1px 3px 1px rgba(60, 64, 67, 0.15);\n",
              "      fill: #174EA6;\n",
              "    }\n",
              "\n",
              "    .colab-df-buttons div {\n",
              "      margin-bottom: 4px;\n",
              "    }\n",
              "\n",
              "    [theme=dark] .colab-df-convert {\n",
              "      background-color: #3B4455;\n",
              "      fill: #D2E3FC;\n",
              "    }\n",
              "\n",
              "    [theme=dark] .colab-df-convert:hover {\n",
              "      background-color: #434B5C;\n",
              "      box-shadow: 0px 1px 3px 1px rgba(0, 0, 0, 0.15);\n",
              "      filter: drop-shadow(0px 1px 2px rgba(0, 0, 0, 0.3));\n",
              "      fill: #FFFFFF;\n",
              "    }\n",
              "  </style>\n",
              "\n",
              "    <script>\n",
              "      const buttonEl =\n",
              "        document.querySelector('#df-cbda7c2b-10e0-42fd-9e5d-832bf74f2f0f button.colab-df-convert');\n",
              "      buttonEl.style.display =\n",
              "        google.colab.kernel.accessAllowed ? 'block' : 'none';\n",
              "\n",
              "      async function convertToInteractive(key) {\n",
              "        const element = document.querySelector('#df-cbda7c2b-10e0-42fd-9e5d-832bf74f2f0f');\n",
              "        const dataTable =\n",
              "          await google.colab.kernel.invokeFunction('convertToInteractive',\n",
              "                                                    [key], {});\n",
              "        if (!dataTable) return;\n",
              "\n",
              "        const docLinkHtml = 'Like what you see? Visit the ' +\n",
              "          '<a target=\"_blank\" href=https://colab.research.google.com/notebooks/data_table.ipynb>data table notebook</a>'\n",
              "          + ' to learn more about interactive tables.';\n",
              "        element.innerHTML = '';\n",
              "        dataTable['output_type'] = 'display_data';\n",
              "        await google.colab.output.renderOutput(dataTable, element);\n",
              "        const docLink = document.createElement('div');\n",
              "        docLink.innerHTML = docLinkHtml;\n",
              "        element.appendChild(docLink);\n",
              "      }\n",
              "    </script>\n",
              "  </div>\n",
              "\n",
              "\n",
              "    <div id=\"df-4a1e5e8a-840a-40d9-8ba6-45b8b0d90213\">\n",
              "      <button class=\"colab-df-quickchart\" onclick=\"quickchart('df-4a1e5e8a-840a-40d9-8ba6-45b8b0d90213')\"\n",
              "                title=\"Suggest charts\"\n",
              "                style=\"display:none;\">\n",
              "\n",
              "<svg xmlns=\"http://www.w3.org/2000/svg\" height=\"24px\"viewBox=\"0 0 24 24\"\n",
              "     width=\"24px\">\n",
              "    <g>\n",
              "        <path d=\"M19 3H5c-1.1 0-2 .9-2 2v14c0 1.1.9 2 2 2h14c1.1 0 2-.9 2-2V5c0-1.1-.9-2-2-2zM9 17H7v-7h2v7zm4 0h-2V7h2v10zm4 0h-2v-4h2v4z\"/>\n",
              "    </g>\n",
              "</svg>\n",
              "      </button>\n",
              "\n",
              "<style>\n",
              "  .colab-df-quickchart {\n",
              "      --bg-color: #E8F0FE;\n",
              "      --fill-color: #1967D2;\n",
              "      --hover-bg-color: #E2EBFA;\n",
              "      --hover-fill-color: #174EA6;\n",
              "      --disabled-fill-color: #AAA;\n",
              "      --disabled-bg-color: #DDD;\n",
              "  }\n",
              "\n",
              "  [theme=dark] .colab-df-quickchart {\n",
              "      --bg-color: #3B4455;\n",
              "      --fill-color: #D2E3FC;\n",
              "      --hover-bg-color: #434B5C;\n",
              "      --hover-fill-color: #FFFFFF;\n",
              "      --disabled-bg-color: #3B4455;\n",
              "      --disabled-fill-color: #666;\n",
              "  }\n",
              "\n",
              "  .colab-df-quickchart {\n",
              "    background-color: var(--bg-color);\n",
              "    border: none;\n",
              "    border-radius: 50%;\n",
              "    cursor: pointer;\n",
              "    display: none;\n",
              "    fill: var(--fill-color);\n",
              "    height: 32px;\n",
              "    padding: 0;\n",
              "    width: 32px;\n",
              "  }\n",
              "\n",
              "  .colab-df-quickchart:hover {\n",
              "    background-color: var(--hover-bg-color);\n",
              "    box-shadow: 0 1px 2px rgba(60, 64, 67, 0.3), 0 1px 3px 1px rgba(60, 64, 67, 0.15);\n",
              "    fill: var(--button-hover-fill-color);\n",
              "  }\n",
              "\n",
              "  .colab-df-quickchart-complete:disabled,\n",
              "  .colab-df-quickchart-complete:disabled:hover {\n",
              "    background-color: var(--disabled-bg-color);\n",
              "    fill: var(--disabled-fill-color);\n",
              "    box-shadow: none;\n",
              "  }\n",
              "\n",
              "  .colab-df-spinner {\n",
              "    border: 2px solid var(--fill-color);\n",
              "    border-color: transparent;\n",
              "    border-bottom-color: var(--fill-color);\n",
              "    animation:\n",
              "      spin 1s steps(1) infinite;\n",
              "  }\n",
              "\n",
              "  @keyframes spin {\n",
              "    0% {\n",
              "      border-color: transparent;\n",
              "      border-bottom-color: var(--fill-color);\n",
              "      border-left-color: var(--fill-color);\n",
              "    }\n",
              "    20% {\n",
              "      border-color: transparent;\n",
              "      border-left-color: var(--fill-color);\n",
              "      border-top-color: var(--fill-color);\n",
              "    }\n",
              "    30% {\n",
              "      border-color: transparent;\n",
              "      border-left-color: var(--fill-color);\n",
              "      border-top-color: var(--fill-color);\n",
              "      border-right-color: var(--fill-color);\n",
              "    }\n",
              "    40% {\n",
              "      border-color: transparent;\n",
              "      border-right-color: var(--fill-color);\n",
              "      border-top-color: var(--fill-color);\n",
              "    }\n",
              "    60% {\n",
              "      border-color: transparent;\n",
              "      border-right-color: var(--fill-color);\n",
              "    }\n",
              "    80% {\n",
              "      border-color: transparent;\n",
              "      border-right-color: var(--fill-color);\n",
              "      border-bottom-color: var(--fill-color);\n",
              "    }\n",
              "    90% {\n",
              "      border-color: transparent;\n",
              "      border-bottom-color: var(--fill-color);\n",
              "    }\n",
              "  }\n",
              "</style>\n",
              "\n",
              "      <script>\n",
              "        async function quickchart(key) {\n",
              "          const quickchartButtonEl =\n",
              "            document.querySelector('#' + key + ' button');\n",
              "          quickchartButtonEl.disabled = true;  // To prevent multiple clicks.\n",
              "          quickchartButtonEl.classList.add('colab-df-spinner');\n",
              "          try {\n",
              "            const charts = await google.colab.kernel.invokeFunction(\n",
              "                'suggestCharts', [key], {});\n",
              "          } catch (error) {\n",
              "            console.error('Error during call to suggestCharts:', error);\n",
              "          }\n",
              "          quickchartButtonEl.classList.remove('colab-df-spinner');\n",
              "          quickchartButtonEl.classList.add('colab-df-quickchart-complete');\n",
              "        }\n",
              "        (() => {\n",
              "          let quickchartButtonEl =\n",
              "            document.querySelector('#df-4a1e5e8a-840a-40d9-8ba6-45b8b0d90213 button');\n",
              "          quickchartButtonEl.style.display =\n",
              "            google.colab.kernel.accessAllowed ? 'block' : 'none';\n",
              "        })();\n",
              "      </script>\n",
              "    </div>\n",
              "\n",
              "    </div>\n",
              "  </div>\n"
            ],
            "application/vnd.google.colaboratory.intrinsic+json": {
              "type": "dataframe",
              "variable_name": "osd_df",
              "summary": "{\n  \"name\": \"osd_df\",\n  \"rows\": 55536,\n  \"fields\": [\n    {\n      \"column\": \"Unnamed: 0\",\n      \"properties\": {\n        \"dtype\": \"string\",\n        \"num_unique_values\": 55536,\n        \"samples\": [\n          \"ENSMUSG00000033186\",\n          \"ENSMUSG00000066747\",\n          \"ENSMUSG00000087029\"\n        ],\n        \"semantic_type\": \"\",\n        \"description\": \"\"\n      }\n    },\n    {\n      \"column\": \"Mmus_C57-6J_SLS_FLT_Rep1_M23\",\n      \"properties\": {\n        \"dtype\": \"number\",\n        \"std\": 35758.39296276457,\n        \"min\": 0.0,\n        \"max\": 7546673.0,\n        \"num_unique_values\": 6101,\n        \"samples\": [\n          3619.0,\n          167.0,\n          5.87\n        ],\n        \"semantic_type\": \"\",\n        \"description\": \"\"\n      }\n    },\n    {\n      \"column\": \"Mmus_C57-6J_SLS_FLT_Rep2_M24\",\n      \"properties\": {\n        \"dtype\": \"number\",\n        \"std\": 34425.360115889875,\n        \"min\": 0.0,\n        \"max\": 7285593.0,\n        \"num_unique_values\": 6082,\n        \"samples\": [\n          365.0,\n          1170.0,\n          5984.0\n        ],\n        \"semantic_type\": \"\",\n        \"description\": \"\"\n      }\n    },\n    {\n      \"column\": \"Mmus_C57-6J_SLS_FLT_Rep3_M25\",\n      \"properties\": {\n        \"dtype\": \"number\",\n        \"std\": 36747.167757513154,\n        \"min\": 0.0,\n        \"max\": 7565387.0,\n        \"num_unique_values\": 6475,\n        \"samples\": [\n          2205.88,\n          1.45,\n          3574.0\n        ],\n        \"semantic_type\": \"\",\n        \"description\": \"\"\n      }\n    },\n    {\n      \"column\": \"Mmus_C57-6J_SLS_FLT_Rep4_M26\",\n      \"properties\": {\n        \"dtype\": \"number\",\n        \"std\": 38214.10830206772,\n        \"min\": 0.0,\n        \"max\": 7895076.0,\n        \"num_unique_values\": 6533,\n        \"samples\": [\n          54.11,\n          3724.0,\n          7327.0\n        ],\n        \"semantic_type\": \"\",\n        \"description\": \"\"\n      }\n    },\n    {\n      \"column\": \"Mmus_C57-6J_SLS_FLT_Rep5_M27\",\n      \"properties\": {\n        \"dtype\": \"number\",\n        \"std\": 33472.48177290806,\n        \"min\": 0.0,\n        \"max\": 6458707.0,\n        \"num_unique_values\": 6836,\n        \"samples\": [\n          5695.0,\n          72201.89,\n          4405.0\n        ],\n        \"semantic_type\": \"\",\n        \"description\": \"\"\n      }\n    },\n    {\n      \"column\": \"Mmus_C57-6J_SLS_FLT_Rep6_M28\",\n      \"properties\": {\n        \"dtype\": \"number\",\n        \"std\": 34434.21760902825,\n        \"min\": 0.0,\n        \"max\": 7190979.0,\n        \"num_unique_values\": 6012,\n        \"samples\": [\n          394.0,\n          1527.0,\n          1.98\n        ],\n        \"semantic_type\": \"\",\n        \"description\": \"\"\n      }\n    },\n    {\n      \"column\": \"Mmus_C57-6J_SLS_GC_Rep1_M33\",\n      \"properties\": {\n        \"dtype\": \"number\",\n        \"std\": 36670.40696569344,\n        \"min\": 0.0,\n        \"max\": 7102638.0,\n        \"num_unique_values\": 6884,\n        \"samples\": [\n          186.79,\n          14323.0,\n          4021.0\n        ],\n        \"semantic_type\": \"\",\n        \"description\": \"\"\n      }\n    },\n    {\n      \"column\": \"Mmus_C57-6J_SLS_GC_Rep2_M34\",\n      \"properties\": {\n        \"dtype\": \"number\",\n        \"std\": 30559.717104098843,\n        \"min\": 0.0,\n        \"max\": 5820250.0,\n        \"num_unique_values\": 6484,\n        \"samples\": [\n          3771.0,\n          10840.0,\n          17364.0\n        ],\n        \"semantic_type\": \"\",\n        \"description\": \"\"\n      }\n    },\n    {\n      \"column\": \"Mmus_C57-6J_SLS_GC_Rep3_M35\",\n      \"properties\": {\n        \"dtype\": \"number\",\n        \"std\": 36706.12413901792,\n        \"min\": 0.0,\n        \"max\": 7002356.0,\n        \"num_unique_values\": 6769,\n        \"samples\": [\n          310.0,\n          3.57,\n          6837.97\n        ],\n        \"semantic_type\": \"\",\n        \"description\": \"\"\n      }\n    },\n    {\n      \"column\": \"Mmus_C57-6J_SLS_GC_Rep4_M36\",\n      \"properties\": {\n        \"dtype\": \"number\",\n        \"std\": 31358.182581243247,\n        \"min\": 0.0,\n        \"max\": 5828421.0,\n        \"num_unique_values\": 6580,\n        \"samples\": [\n          3250.0,\n          18701.0,\n          1283.0\n        ],\n        \"semantic_type\": \"\",\n        \"description\": \"\"\n      }\n    },\n    {\n      \"column\": \"Mmus_C57-6J_SLS_GC_Rep5_M37\",\n      \"properties\": {\n        \"dtype\": \"number\",\n        \"std\": 29382.8478658645,\n        \"min\": 0.0,\n        \"max\": 5342004.0,\n        \"num_unique_values\": 6535,\n        \"samples\": [\n          350.37,\n          1934.0,\n          1676.8\n        ],\n        \"semantic_type\": \"\",\n        \"description\": \"\"\n      }\n    },\n    {\n      \"column\": \"Mmus_C57-6J_SLS_GC_Rep6_M38\",\n      \"properties\": {\n        \"dtype\": \"number\",\n        \"std\": 28873.50667010412,\n        \"min\": 0.0,\n        \"max\": 5362375.0,\n        \"num_unique_values\": 6449,\n        \"samples\": [\n          12102.0,\n          15754.0,\n          38033.0\n        ],\n        \"semantic_type\": \"\",\n        \"description\": \"\"\n      }\n    }\n  ]\n}"
            }
          },
          "metadata": {},
          "execution_count": 20
        }
      ]
    },
    {
      "cell_type": "code",
      "source": [
        "# get list of genes from OSD_SAMPLE counts data to compare with the counts for the entire OSD_DATASET\n",
        "# remove the \".\" extension from the ensemble gene ID\n",
        "sample_genes = list(counts_df[0].values)[:20]\n",
        "sample_genes = [gene.split(\".\")[0] for gene in sample_genes]\n",
        "sample_genes"
      ],
      "metadata": {
        "id": "DkpQkZKXnlwm",
        "colab": {
          "base_uri": "https://localhost:8080/"
        },
        "outputId": "26b149f0-83ca-4fed-8ccc-463f5e6049d2"
      },
      "execution_count": 21,
      "outputs": [
        {
          "output_type": "execute_result",
          "data": {
            "text/plain": [
              "['ENSMUSG00000000127',\n",
              " 'ENSMUSG00000000579',\n",
              " 'ENSMUSG00000000673',\n",
              " 'ENSMUSG00000000708',\n",
              " 'ENSMUSG00000001227',\n",
              " 'ENSMUSG00000001228',\n",
              " 'ENSMUSG00000001229',\n",
              " 'ENSMUSG00000001524',\n",
              " 'ENSMUSG00000001525',\n",
              " 'ENSMUSG00000001576',\n",
              " 'ENSMUSG00000001870',\n",
              " 'ENSMUSG00000002017',\n",
              " 'ENSMUSG00000002076',\n",
              " 'ENSMUSG00000002249',\n",
              " 'ENSMUSG00000002250',\n",
              " 'ENSMUSG00000002257',\n",
              " 'ENSMUSG00000002274',\n",
              " 'ENSMUSG00000002279',\n",
              " 'ENSMUSG00000002280',\n",
              " 'ENSMUSG00000002289']"
            ]
          },
          "metadata": {},
          "execution_count": 21
        }
      ]
    },
    {
      "cell_type": "code",
      "source": [
        "# find the gene count data for the first 20 genes associated with the sample name\n",
        "osd_df[['Unnamed: 0', OSD_SAMPLE]].head(20)\n",
        "gene_counts_from_osd = list(osd_df[osd_df['Unnamed: 0'].isin(sample_genes)][OSD_SAMPLE].values)"
      ],
      "metadata": {
        "id": "t2FRqfLcQnrB"
      },
      "execution_count": 22,
      "outputs": []
    },
    {
      "cell_type": "code",
      "source": [
        "# capture the first 20 lines of the counts_df dataframe\n",
        "gene_counts_from_you = list(counts_df[1].values)[:20]"
      ],
      "metadata": {
        "id": "Wen-DLnVtwMB"
      },
      "execution_count": 23,
      "outputs": []
    },
    {
      "cell_type": "code",
      "source": [
        "# compare the counts side by side (the second column should be roughly 1/REDUCTION_FACTOR of the first column)\n",
        "for gene_count in zip(sample_genes, gene_counts_from_osd, gene_counts_from_you):\n",
        "  print(gene_count[0], '\\t', gene_count[1], '\\t', gene_count[2])\n"
      ],
      "metadata": {
        "id": "feX872BruWMs",
        "colab": {
          "base_uri": "https://localhost:8080/"
        },
        "outputId": "3b6ad84e-d4ec-4002-e87b-e8a775277372"
      },
      "execution_count": 24,
      "outputs": [
        {
          "output_type": "stream",
          "name": "stdout",
          "text": [
            "ENSMUSG00000000127 \t 1109.0 \t 14\n",
            "ENSMUSG00000000579 \t 64.26 \t 2\n",
            "ENSMUSG00000000673 \t 1.0 \t 0\n",
            "ENSMUSG00000000708 \t 9792.0 \t 71\n",
            "ENSMUSG00000001227 \t 257.0 \t 1\n",
            "ENSMUSG00000001228 \t 17.0 \t 1\n",
            "ENSMUSG00000001229 \t 2865.0 \t 18\n",
            "ENSMUSG00000001524 \t 783.0 \t 4\n",
            "ENSMUSG00000001525 \t 3951.0 \t 49\n",
            "ENSMUSG00000001576 \t 2848.0 \t 13\n",
            "ENSMUSG00000001870 \t 1164.0 \t 7\n",
            "ENSMUSG00000002017 \t 2538.0 \t 9\n",
            "ENSMUSG00000002076 \t 32.0 \t 0\n",
            "ENSMUSG00000002249 \t 334.0 \t 2\n",
            "ENSMUSG00000002250 \t 2114.0 \t 19\n",
            "ENSMUSG00000002257 \t 64.0 \t 0\n",
            "ENSMUSG00000002274 \t 760.0 \t 4\n",
            "ENSMUSG00000002279 \t 500.0 \t 1\n",
            "ENSMUSG00000002280 \t 1736.0 \t 12\n",
            "ENSMUSG00000002289 \t 337.0 \t 3\n"
          ]
        }
      ]
    },
    {
      "cell_type": "code",
      "source": [
        "# look at the first 500 gene counts in both\n",
        "# determine if fraction of abundance is approximately 1/REDUCTION_FACTOR\n",
        "import numpy as np\n",
        "count_fractions = list()\n",
        "for gene in counts_df[0].values[:500]:\n",
        "  _gene = gene.split(\".\")[0]\n",
        "  if _gene in osd_df['Unnamed: 0'].values:\n",
        "    genelab_val = osd_df[osd_df['Unnamed: 0'] == _gene][OSD_SAMPLE].values[0]\n",
        "    your_val = int(counts_df[counts_df[0] == gene][1].values[0])\n",
        "    if not genelab_val == 0:\n",
        "      frac = your_val/genelab_val\n",
        "      count_fractions.append(frac)\n",
        "\n",
        "print(np.mean(count_fractions))"
      ],
      "metadata": {
        "id": "trnsLHj9Vr7r",
        "colab": {
          "base_uri": "https://localhost:8080/"
        },
        "outputId": "66b96adf-a540-43f4-a2a1-205dd40ccf54"
      },
      "execution_count": 25,
      "outputs": [
        {
          "output_type": "stream",
          "name": "stdout",
          "text": [
            "0.018898268634986625\n"
          ]
        }
      ]
    },
    {
      "cell_type": "markdown",
      "source": [
        "# Check your work before moving on"
      ],
      "metadata": {
        "id": "dy2dyc5aT7sz"
      }
    },
    {
      "cell_type": "code",
      "source": [
        "# check disk space utilization in google drive (should be about 2.4GB)\n",
        "!du -sh /content/mnt/MyDrive/NASA/GL4HS"
      ],
      "metadata": {
        "id": "1eTNc4-fT-gz",
        "colab": {
          "base_uri": "https://localhost:8080/"
        },
        "outputId": "c941fd7a-be2a-48ab-dda2-f19b3db299bf"
      },
      "execution_count": 26,
      "outputs": [
        {
          "output_type": "stream",
          "name": "stdout",
          "text": [
            "2.4G\t/content/mnt/MyDrive/NASA/GL4HS\n"
          ]
        }
      ]
    },
    {
      "cell_type": "code",
      "source": [
        "# time the notebook\n",
        "import datetime\n",
        "end_time=datetime.datetime.now()\n",
        "print('notebook end time: ', end_time.strftime('%Y-%m-%d %H:%M:%S'))\n",
        "\n",
        "print('notebook runtime: ', end_time - start_time)\n",
        "#"
      ],
      "metadata": {
        "id": "C4JOAMxU_Mc2",
        "colab": {
          "base_uri": "https://localhost:8080/"
        },
        "outputId": "c18a1e27-7e1c-48ed-c4c8-fbd5b8da0041"
      },
      "execution_count": 27,
      "outputs": [
        {
          "output_type": "stream",
          "name": "stdout",
          "text": [
            "notebook end time:  2025-07-15 02:59:55\n",
            "notebook runtime:  0:00:56.874533\n"
          ]
        }
      ]
    }
  ]
}