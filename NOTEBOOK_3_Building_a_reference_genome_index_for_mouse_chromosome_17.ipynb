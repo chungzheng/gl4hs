{
  "nbformat": 4,
  "nbformat_minor": 0,
  "metadata": {
    "colab": {
      "provenance": [],
      "toc_visible": true
    },
    "kernelspec": {
      "name": "python3",
      "display_name": "Python 3"
    },
    "language_info": {
      "name": "python"
    }
  },
  "cells": [
    {
      "cell_type": "markdown",
      "source": [
        "<div>\n",
        "<img src=\"https://www.nasa.gov/wp-content/uploads/2024/07/osdr-gl4hs-logo.png\" width=\"600\"/>\n",
        "</div>"
      ],
      "metadata": {
        "id": "1fH4Ip6za3W6"
      }
    },
    {
      "cell_type": "markdown",
      "source": [
        "# **NOTEBOOK 3: Building a reference genome index**\n",
        "\n",
        "\n",
        "In this notebook you will build a reference chromosome index (chr17) for hands-on experience and demonstration purposes.\n",
        "\n",
        "## **Objectives of this notebook**\n",
        "The primary objective of this notebook is to build a reference genome index for chromosome 17. A reference genome index (like any index) makes searching faster, so the overall performance of the mapping/alignment step will also be faster. In subsequent notebooks, you will use this index to align the sequence records from the FASTQ files to this reference genome. You can learn more about reference genomes in this [Wikipedia article](https://en.wikipedia.org/wiki/Reference_genome).\n",
        "\n",
        "## **UNIX commands introduced in this notebook**\n",
        "\n",
        "[`tail`](https://man7.org/linux/man-pages/man1/tail.1.html) command to see the last n lines of a file.\n",
        "\n",
        "[`mkdir`](https://man7.org/linux/man-pages/man1/mkdir.1.html) command to make a directory."
      ],
      "metadata": {
        "id": "rp15xWumWZlI"
      }
    },
    {
      "cell_type": "markdown",
      "source": [
        "# Prepare runtime environment"
      ],
      "metadata": {
        "id": "GtT-4qvPuPfV"
      }
    },
    {
      "cell_type": "code",
      "execution_count": 1,
      "metadata": {
        "id": "wuZaffD5o3mS",
        "colab": {
          "base_uri": "https://localhost:8080/"
        },
        "outputId": "1974c484-442a-44ea-bc6a-76ddc29d2a0b"
      },
      "outputs": [
        {
          "output_type": "stream",
          "name": "stdout",
          "text": [
            "Drive not mounted, so nothing to flush and unmount.\n",
            "Mounted at mnt\n"
          ]
        }
      ],
      "source": [
        "# mount google drive for notebook\n",
        "from google.colab import drive\n",
        "drive.flush_and_unmount()\n",
        "drive.mount(\"mnt\")\n"
      ]
    },
    {
      "cell_type": "code",
      "source": [
        "# time the notebook\n",
        "import datetime\n",
        "start_time = datetime.datetime.now()\n",
        "print('notebook start time: ', start_time.strftime('%Y-%m-%d %H:%M:%S'))"
      ],
      "metadata": {
        "id": "S4HtN0KX1o1p",
        "colab": {
          "base_uri": "https://localhost:8080/"
        },
        "outputId": "bf368698-3b1d-4d24-afd6-5ddcc7c132b7"
      },
      "execution_count": 2,
      "outputs": [
        {
          "output_type": "stream",
          "name": "stdout",
          "text": [
            "notebook start time:  2025-07-14 19:18:37\n"
          ]
        }
      ]
    },
    {
      "cell_type": "code",
      "source": [
        "# define FASTQ_DIR (directory)\n",
        "import os\n",
        "FASTQ_DIR=\"/content/mnt/MyDrive/NASA/GL4HS/FASTQ\"\n",
        "if not os.path.exists(FASTQ_DIR):\n",
        "  raise Exception(\"STOP! You haven't completed the previous notebooks yet\")"
      ],
      "metadata": {
        "id": "09QH8xP-yXcU"
      },
      "execution_count": 3,
      "outputs": []
    },
    {
      "cell_type": "code",
      "source": [
        "# create directory structure for this lab\n",
        "import os\n",
        "REFERENCE_DIR='/content/mnt/MyDrive/NASA/GL4HS/REFERENCE'\n",
        "if not os.path.exists(REFERENCE_DIR):\n",
        "  !mkdir {REFERENCE_DIR}\n"
      ],
      "metadata": {
        "id": "BxvgWvXzj-21"
      },
      "execution_count": 4,
      "outputs": []
    },
    {
      "cell_type": "code",
      "source": [
        "# create directory structure for this lab\n",
        "import os\n",
        "STAR_DIR='/content/mnt/MyDrive/NASA/GL4HS/STAR'\n",
        "if not os.path.exists(STAR_DIR):\n",
        "  !mkdir {STAR_DIR}"
      ],
      "metadata": {
        "id": "ctXlum7gwM8D"
      },
      "execution_count": 5,
      "outputs": []
    },
    {
      "cell_type": "code",
      "source": [
        "# download and install STAR (executeable for alignment and building reference genome)\n",
        "if not os.path.exists('/content/mnt/MyDrive/NASA/GL4HS/STAR/bin/Linux_x86_64_static/STAR'):\n",
        "  !wget -O {STAR_DIR}/STAR.tar.gz https://github.com/alexdobin/STAR/archive/2.7.11b.tar.gz\n",
        "  !tar -xzf {STAR_DIR}/STAR.tar.gz -C {STAR_DIR}\n",
        "\n",
        "!chmod +x {STAR_DIR}/STAR-2.7.11b/bin/Linux_x86_64_static/STAR\n",
        "\n",
        "# remove the compressed tar file\n",
        "!rm {STAR_DIR}/STAR.tar.gz"
      ],
      "metadata": {
        "id": "mnCJAdWcjyMW",
        "colab": {
          "base_uri": "https://localhost:8080/"
        },
        "outputId": "4a5716af-ab77-4b1d-eae2-5bb2fd4dcdbd"
      },
      "execution_count": 6,
      "outputs": [
        {
          "output_type": "stream",
          "name": "stdout",
          "text": [
            "--2025-07-14 19:18:38--  https://github.com/alexdobin/STAR/archive/2.7.11b.tar.gz\n",
            "Resolving github.com (github.com)... 140.82.112.3\n",
            "Connecting to github.com (github.com)|140.82.112.3|:443... connected.\n",
            "HTTP request sent, awaiting response... 302 Found\n",
            "Location: https://codeload.github.com/alexdobin/STAR/tar.gz/refs/tags/2.7.11b [following]\n",
            "--2025-07-14 19:18:38--  https://codeload.github.com/alexdobin/STAR/tar.gz/refs/tags/2.7.11b\n",
            "Resolving codeload.github.com (codeload.github.com)... 140.82.114.10\n",
            "Connecting to codeload.github.com (codeload.github.com)|140.82.114.10|:443... connected.\n",
            "HTTP request sent, awaiting response... 200 OK\n",
            "Length: unspecified [application/x-gzip]\n",
            "Saving to: ‘/content/mnt/MyDrive/NASA/GL4HS/STAR/STAR.tar.gz’\n",
            "\n",
            "/content/mnt/MyDriv     [        <=>         ]  11.89M  7.17MB/s    in 1.7s    \n",
            "\n",
            "2025-07-14 19:18:41 (7.17 MB/s) - ‘/content/mnt/MyDrive/NASA/GL4HS/STAR/STAR.tar.gz’ saved [12466670]\n",
            "\n"
          ]
        }
      ]
    },
    {
      "cell_type": "code",
      "source": [
        "# check version of STAR\n",
        "!{STAR_DIR}/STAR-2.7.11b/bin/Linux_x86_64_static/STAR --version"
      ],
      "metadata": {
        "id": "XFDqrvAWwuwt",
        "colab": {
          "base_uri": "https://localhost:8080/"
        },
        "outputId": "3a649492-c55d-4d85-fb7b-61a53246f423"
      },
      "execution_count": 7,
      "outputs": [
        {
          "output_type": "stream",
          "name": "stdout",
          "text": [
            "2.7.11b\n"
          ]
        }
      ]
    },
    {
      "cell_type": "code",
      "source": [
        "# download GRCm39 reference for chromosome 17 (real life: look at entire genome)\n",
        "#gunzip: decompress | sent to reference directory\n",
        "import os\n",
        "if not os.path.exists(f\"{REFERENCE_DIR}/Mus_musculus.GRCm39.dna.chromosome.17.fa.gz\"):\n",
        "  !wget -O {REFERENCE_DIR}/Mus_musculus.GRCm39.dna.chromosome.17.fa.gz https://ftp.ensembl.org/pub/release-113/fasta/mus_musculus/dna/Mus_musculus.GRCm39.dna.chromosome.17.fa.gz\n",
        "  !gunzip -c {REFERENCE_DIR}/Mus_musculus.GRCm39.dna.chromosome.17.fa.gz > {REFERENCE_DIR}/Mus_musculus.GRCm39.dna.chromosome.17.fa\n"
      ],
      "metadata": {
        "id": "AG7HwbZhj05d",
        "colab": {
          "base_uri": "https://localhost:8080/"
        },
        "outputId": "44527774-9c4f-470f-c4e3-5391767fd7f4"
      },
      "execution_count": 8,
      "outputs": [
        {
          "output_type": "stream",
          "name": "stdout",
          "text": [
            "--2025-07-14 19:18:45--  https://ftp.ensembl.org/pub/release-113/fasta/mus_musculus/dna/Mus_musculus.GRCm39.dna.chromosome.17.fa.gz\n",
            "Resolving ftp.ensembl.org (ftp.ensembl.org)... 193.62.193.169\n",
            "Connecting to ftp.ensembl.org (ftp.ensembl.org)|193.62.193.169|:443... connected.\n",
            "HTTP request sent, awaiting response... 200 OK\n",
            "Length: 27906831 (27M) [application/x-gzip]\n",
            "Saving to: ‘/content/mnt/MyDrive/NASA/GL4HS/REFERENCE/Mus_musculus.GRCm39.dna.chromosome.17.fa.gz’\n",
            "\n",
            "/content/mnt/MyDriv 100%[===================>]  26.61M  12.5MB/s    in 2.1s    \n",
            "\n",
            "2025-07-14 19:18:48 (12.5 MB/s) - ‘/content/mnt/MyDrive/NASA/GL4HS/REFERENCE/Mus_musculus.GRCm39.dna.chromosome.17.fa.gz’ saved [27906831/27906831]\n",
            "\n"
          ]
        }
      ]
    },
    {
      "cell_type": "code",
      "source": [
        "# look at the first 10 lines of the reference fasta file\n",
        "!head {REFERENCE_DIR}/Mus_musculus.GRCm39.dna.chromosome.17.fa"
      ],
      "metadata": {
        "id": "JxTZBVBEMCEb",
        "colab": {
          "base_uri": "https://localhost:8080/"
        },
        "outputId": "3acdcafb-aac6-43dc-ff81-682c59ada93c"
      },
      "execution_count": 9,
      "outputs": [
        {
          "output_type": "stream",
          "name": "stdout",
          "text": [
            ">17 dna:chromosome chromosome:GRCm39:17:1:95294699:1 REF\n",
            "NNNNNNNNNNNNNNNNNNNNNNNNNNNNNNNNNNNNNNNNNNNNNNNNNNNNNNNNNNNN\n",
            "NNNNNNNNNNNNNNNNNNNNNNNNNNNNNNNNNNNNNNNNNNNNNNNNNNNNNNNNNNNN\n",
            "NNNNNNNNNNNNNNNNNNNNNNNNNNNNNNNNNNNNNNNNNNNNNNNNNNNNNNNNNNNN\n",
            "NNNNNNNNNNNNNNNNNNNNNNNNNNNNNNNNNNNNNNNNNNNNNNNNNNNNNNNNNNNN\n",
            "NNNNNNNNNNNNNNNNNNNNNNNNNNNNNNNNNNNNNNNNNNNNNNNNNNNNNNNNNNNN\n",
            "NNNNNNNNNNNNNNNNNNNNNNNNNNNNNNNNNNNNNNNNNNNNNNNNNNNNNNNNNNNN\n",
            "NNNNNNNNNNNNNNNNNNNNNNNNNNNNNNNNNNNNNNNNNNNNNNNNNNNNNNNNNNNN\n",
            "NNNNNNNNNNNNNNNNNNNNNNNNNNNNNNNNNNNNNNNNNNNNNNNNNNNNNNNNNNNN\n",
            "NNNNNNNNNNNNNNNNNNNNNNNNNNNNNNNNNNNNNNNNNNNNNNNNNNNNNNNNNNNN\n"
          ]
        }
      ]
    },
    {
      "cell_type": "code",
      "source": [
        "# look at 10 lines in the middle of the reference fasta file\n",
        "!sed -n '100000,100010 p' {REFERENCE_DIR}/Mus_musculus.GRCm39.dna.chromosome.17.fa"
      ],
      "metadata": {
        "id": "5UlcDnm5vOtF",
        "colab": {
          "base_uri": "https://localhost:8080/"
        },
        "outputId": "d0614cfd-d728-482a-f365-a1fd2cf59948"
      },
      "execution_count": 10,
      "outputs": [
        {
          "output_type": "stream",
          "name": "stdout",
          "text": [
            "ATGTGTGTGTATATGTGTGCGTGCGCGTGTGTGTGTGCACGTGTGTGTGTATGTGTGCGC\n",
            "GCATGCGTGTGTGTGCGTGCGCGCGCGTGTGTATGTGTGCGTGTGTGCACGCATGTGTGT\n",
            "ATGTGCGCGCGCGTGCGTGTGCGCGTGCGCGCGTGTGTGTGTGTGTGTGTGTGTGTGTGT\n",
            "GTGTGTGTGTGTGTGTGTAAAGTACTGAGGCTTTACTTTATCTACTACCTTGGGAGAGGA\n",
            "GGCTTAATTAGAGCTCTGCCTCCCTAAACCATTCTTCCCCCAGGAAAAGTTACTTAATCC\n",
            "TCCTACAGTTCAGAATCAGGACGCAAAGGATTACAACAAACATGGCTTCTCCTATCATGT\n",
            "GAATCCTTTCTTTTTTTTTTTTTAGGATTTATTTATTTTATTTATATGAGTACACTGTAG\n",
            "CTGCCTTTAGACACCCCAGAAGAGGGCATCAGATCCCATTACAGATGGTTGCGAGCCACC\n",
            "ATGTGGTTGCTGGGAATTGAACTCAGGACCTCTGGAAGAGCAGTCAGTGCCCTTAACCAC\n",
            "TGAGCCATCTCTCCAGTTCAAGAATCCTCAAGAATTTATTTCTGTGTATGTTTGTGCGAG\n",
            "TGAGTGCCATTTGTGTGCGGGTACCCTGAGGTCAAAAGAAGGCATCAGATCCTCTGGAGA\n"
          ]
        }
      ]
    },
    {
      "cell_type": "code",
      "source": [
        "# look at the last 10 lines of the reference fasta file\n",
        "!tail {REFERENCE_DIR}/Mus_musculus.GRCm39.dna.chromosome.17.fa"
      ],
      "metadata": {
        "id": "6LJM-zERx3MM",
        "colab": {
          "base_uri": "https://localhost:8080/"
        },
        "outputId": "e5dcbc49-4945-40ff-fab0-436eb0df13be"
      },
      "execution_count": 11,
      "outputs": [
        {
          "output_type": "stream",
          "name": "stdout",
          "text": [
            "NNNNNNNNNNNNNNNNNNNNNNNNNNNNNNNNNNNNNNNNNNNNNNNNNNNNNNNNNNNN\n",
            "NNNNNNNNNNNNNNNNNNNNNNNNNNNNNNNNNNNNNNNNNNNNNNNNNNNNNNNNNNNN\n",
            "NNNNNNNNNNNNNNNNNNNNNNNNNNNNNNNNNNNNNNNNNNNNNNNNNNNNNNNNNNNN\n",
            "NNNNNNNNNNNNNNNNNNNNNNNNNNNNNNNNNNNNNNNNNNNNNNNNNNNNNNNNNNNN\n",
            "NNNNNNNNNNNNNNNNNNNNNNNNNNNNNNNNNNNNNNNNNNNNNNNNNNNNNNNNNNNN\n",
            "NNNNNNNNNNNNNNNNNNNNNNNNNNNNNNNNNNNNNNNNNNNNNNNNNNNNNNNNNNNN\n",
            "NNNNNNNNNNNNNNNNNNNNNNNNNNNNNNNNNNNNNNNNNNNNNNNNNNNNNNNNNNNN\n",
            "NNNNNNNNNNNNNNNNNNNNNNNNNNNNNNNNNNNNNNNNNNNNNNNNNNNNNNNNNNNN\n",
            "NNNNNNNNNNNNNNNNNNNNNNNNNNNNNNNNNNNNNNNNNNNNNNNNNNNNNNNNNNNN\n",
            "NNNNNNNNNNNNNNNNNNNNNNNNNNNNNNNNNNNNNNNNNNNNNNNNNNNNNNNNNNN\n"
          ]
        }
      ]
    },
    {
      "cell_type": "markdown",
      "source": [
        "Read [this discussion thread](https://www.reddit.com/r/genetics/comments/rz47pq/why_there_is_a_lot_of_ns_at_the_begining_of_the/) to see why there may be lots of 'N' at beginning and end of a reference genome fasta file."
      ],
      "metadata": {
        "id": "zFibWMBJzH1M"
      }
    },
    {
      "cell_type": "markdown",
      "source": [
        "# Run STAR to build reference chromosome index"
      ],
      "metadata": {
        "id": "Ksqq7egwuezN"
      }
    },
    {
      "cell_type": "markdown",
      "source": [
        "Read [this discussion thread](https://www.biostars.org/p/251736/) and search the [documentation](https://physiology.med.cornell.edu/faculty/skrabanek/lab/angsd/lecture_notes/STARmanual.pdf) to learn more about `genomeChrBinNbits` option of the STAR command."
      ],
      "metadata": {
        "id": "cw4T2r1GIY7o"
      }
    },
    {
      "cell_type": "code",
      "source": [
        "# run STAR to create index of GRCm39 chr 17 reference\n",
        "if not os.path.exists(REFERENCE_DIR + '/MM39_CHR17'):\n",
        "  !mkdir -p {REFERENCE_DIR}/MM39_CHR17\n",
        "!{STAR_DIR}/STAR-2.7.11b/bin/Linux_x86_64_static/STAR \\\n",
        "        --runThreadN 2 \\\n",
        "        --runMode genomeGenerate \\\n",
        "        --genomeDir {REFERENCE_DIR}/MM39_CHR17 \\\n",
        "        --genomeFastaFiles {REFERENCE_DIR}/Mus_musculus.GRCm39.dna.chromosome.17.fa  \\\n",
        "        --genomeSAindexNbases 12 \\\n",
        "        --genomeChrBinNbits 5"
      ],
      "metadata": {
        "id": "7EmmJhFWr_sk",
        "colab": {
          "base_uri": "https://localhost:8080/"
        },
        "outputId": "f6b39f0f-1d91-4020-ae97-c6b810aeb4a3"
      },
      "execution_count": 12,
      "outputs": [
        {
          "output_type": "stream",
          "name": "stdout",
          "text": [
            "\t/content/mnt/MyDrive/NASA/GL4HS/STAR/STAR-2.7.11b/bin/Linux_x86_64_static/STAR --runThreadN 2 --runMode genomeGenerate --genomeDir /content/mnt/MyDrive/NASA/GL4HS/REFERENCE/MM39_CHR17 --genomeFastaFiles /content/mnt/MyDrive/NASA/GL4HS/REFERENCE/Mus_musculus.GRCm39.dna.chromosome.17.fa --genomeSAindexNbases 12 --genomeChrBinNbits 5\n",
            "\tSTAR version: 2.7.11b   compiled: 2024-01-25T16:12:02-05:00 :/home/dobin/data/STAR/STARcode/STAR.master/source\n",
            "Jul 14 19:18:50 ..... started STAR run\n",
            "!!!!! WARNING: Could not move Log.out file from ./Log.out into /content/mnt/MyDrive/NASA/GL4HS/REFERENCE/MM39_CHR17/Log.out. Will keep ./Log.out\n",
            "\n",
            "Jul 14 19:18:50 ... starting to generate Genome files\n",
            "Jul 14 19:18:51 ... starting to sort Suffix Array. This may take a long time...\n",
            "Jul 14 19:18:52 ... sorting Suffix Array chunks and saving them to disk...\n",
            "Jul 14 19:20:33 ... loading chunks from disk, packing SA...\n",
            "Jul 14 19:20:36 ... finished generating suffix array\n",
            "Jul 14 19:20:36 ... generating Suffix Array index\n",
            "Jul 14 19:20:48 ... completed Suffix Array index\n",
            "Jul 14 19:20:48 ... writing Genome to disk ...\n",
            "Jul 14 19:20:48 ... writing Suffix Array to disk ...\n",
            "Jul 14 19:20:56 ... writing SAindex to disk\n",
            "Jul 14 19:20:56 ..... finished successfully\n"
          ]
        }
      ]
    },
    {
      "cell_type": "code",
      "source": [
        "# check index file\n",
        "!ls -lh {REFERENCE_DIR}/MM39_CHR17"
      ],
      "metadata": {
        "id": "breihqoWuyoA",
        "colab": {
          "base_uri": "https://localhost:8080/"
        },
        "outputId": "76a47553-e8bf-4f90-be74-a6de5c15cc5f"
      },
      "execution_count": 13,
      "outputs": [
        {
          "output_type": "stream",
          "name": "stdout",
          "text": [
            "total 907M\n",
            "-rw------- 1 root root    9 Jul 14 19:18 chrLength.txt\n",
            "-rw------- 1 root root   12 Jul 14 19:18 chrNameLength.txt\n",
            "-rw------- 1 root root    3 Jul 14 19:18 chrName.txt\n",
            "-rw------- 1 root root   11 Jul 14 19:18 chrStart.txt\n",
            "-rw------- 1 root root  91M Jul 14 19:20 Genome\n",
            "-rw------- 1 root root  847 Jul 14 19:20 genomeParameters.txt\n",
            "-rw------- 1 root root 723M Jul 14 19:20 SA\n",
            "-rw------- 1 root root  94M Jul 14 19:20 SAindex\n"
          ]
        }
      ]
    },
    {
      "cell_type": "code",
      "source": [
        "# check size of google drive usage for the reference (should be about 1.1G)\n",
        "!du -sh {REFERENCE_DIR}/MM39_CHR17"
      ],
      "metadata": {
        "id": "h3hcejRnzDZ6",
        "colab": {
          "base_uri": "https://localhost:8080/"
        },
        "outputId": "835fd2ab-cb4c-4b91-b4b4-e5e531e3eaea"
      },
      "execution_count": 14,
      "outputs": [
        {
          "output_type": "stream",
          "name": "stdout",
          "text": [
            "907M\t/content/mnt/MyDrive/NASA/GL4HS/REFERENCE/MM39_CHR17\n"
          ]
        }
      ]
    },
    {
      "cell_type": "markdown",
      "source": [
        "# Check your work before moving on"
      ],
      "metadata": {
        "id": "Bi38ArXrzs-A"
      }
    },
    {
      "cell_type": "code",
      "source": [
        "# check size of all GL4HS drive usage (should be about 1.4G)\n",
        "!du -sh /content/mnt/MyDrive/NASA/GL4HS"
      ],
      "metadata": {
        "id": "hOl7Z-owzMmR",
        "colab": {
          "base_uri": "https://localhost:8080/"
        },
        "outputId": "dfbff7d7-6f1b-4cb8-eb59-caf24272fb29"
      },
      "execution_count": 15,
      "outputs": [
        {
          "output_type": "stream",
          "name": "stdout",
          "text": [
            "1.3G\t/content/mnt/MyDrive/NASA/GL4HS\n"
          ]
        }
      ]
    },
    {
      "cell_type": "code",
      "source": [
        "# time the notebook\n",
        "import datetime\n",
        "end_time = datetime.datetime.now()\n",
        "print('notebook end time: ', end_time.strftime('%Y-%m-%d %H:%M:%S'))\n",
        "\n",
        "total_time = end_time - start_time\n",
        "print('notebook total runtime: ', total_time)"
      ],
      "metadata": {
        "id": "XXlbSWuL1yX4",
        "colab": {
          "base_uri": "https://localhost:8080/"
        },
        "outputId": "91c2f96a-f14b-40ea-99a4-5480d320a8c1"
      },
      "execution_count": 16,
      "outputs": [
        {
          "output_type": "stream",
          "name": "stdout",
          "text": [
            "notebook end time:  2025-07-14 19:21:05\n",
            "notebook total runtime:  0:02:27.626818\n"
          ]
        }
      ]
    }
  ]
}